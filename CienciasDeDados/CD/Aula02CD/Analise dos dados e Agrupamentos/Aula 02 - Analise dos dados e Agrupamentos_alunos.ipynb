{
 "cells": [
  {
   "cell_type": "markdown",
   "metadata": {
    "id": "3csnwF8gFYgP"
   },
   "source": [
    "**Ciência de Dados**\n",
    "\n",
    "Prof. Miguel Bozer da Silva - miguel.bozer@senaisp.edu.br\n",
    "\n",
    "---\n"
   ]
  },
  {
   "cell_type": "markdown",
   "metadata": {
    "id": "RowJbD4S4rJr"
   },
   "source": [
    "Vamos importar as bibliotecas que vamos usar no projeto na celula a seguir para organizar o nosso projeto:"
   ]
  },
  {
   "cell_type": "code",
   "execution_count": null,
   "metadata": {
    "id": "Kasnbq2y4xfm"
   },
   "outputs": [
    {
     "ename": "ModuleNotFoundError",
     "evalue": "No module named 'pandas'",
     "output_type": "error",
     "traceback": [
      "\u001b[31m---------------------------------------------------------------------------\u001b[39m",
      "\u001b[31mModuleNotFoundError\u001b[39m                       Traceback (most recent call last)",
      "\u001b[36mCell\u001b[39m\u001b[36m \u001b[39m\u001b[32mIn[1]\u001b[39m\u001b[32m, line 1\u001b[39m\n\u001b[32m----> \u001b[39m\u001b[32m1\u001b[39m \u001b[38;5;28;01mimport\u001b[39;00m\u001b[38;5;250m \u001b[39m\u001b[34;01mpandas\u001b[39;00m\u001b[38;5;250m \u001b[39m\u001b[38;5;28;01mas\u001b[39;00m\u001b[38;5;250m \u001b[39m\u001b[34;01mpd\u001b[39;00m\n",
      "\u001b[31mModuleNotFoundError\u001b[39m: No module named 'pandas'"
     ]
    }
   ],
   "source": [
    "import pandas as pd"
   ]
  },
  {
   "cell_type": "markdown",
   "metadata": {
    "id": "ZOGhqNIk49bN"
   },
   "source": [
    "##Recebendo os dados"
   ]
  },
  {
   "cell_type": "markdown",
   "metadata": {
    "id": "HpnUEPz_2myF"
   },
   "source": [
    "Abaixo temos a célula com o código para receber o conjunto de dados carregando o mesmo diretamente via upload no Colab. Lembre-se de carregar o arquivo via upload igual vimos na última aula."
   ]
  },
  {
   "cell_type": "code",
   "execution_count": null,
   "metadata": {
    "id": "SkZipnVA2mA1"
   },
   "outputs": [],
   "source": []
  },
  {
   "cell_type": "markdown",
   "metadata": {
    "id": "VStqRN1H5CcX"
   },
   "source": [
    "Vamos visualizar os dados que temos nesse arquivo csv:"
   ]
  },
  {
   "cell_type": "code",
   "execution_count": null,
   "metadata": {
    "id": "7qnHpUfM44d1"
   },
   "outputs": [],
   "source": []
  },
  {
   "cell_type": "code",
   "execution_count": null,
   "metadata": {
    "id": "LvP_zBWJ5hsE"
   },
   "outputs": [],
   "source": []
  },
  {
   "cell_type": "markdown",
   "metadata": {
    "id": "a2Aeki3G50Mi"
   },
   "source": [
    "A coluna Churn indica se o cliente desistiu ou não do plano que ele tinha com a empresa de Telecom. Um conjunto de dados como esse pode ajudar essas empresas a entender o tipo de cliente que ela possui e ajudar a compreender quais situações um cliente continua com o plano que ele possui com a empresa e quando o cliente pode desistir do seu plano."
   ]
  },
  {
   "cell_type": "markdown",
   "metadata": {
    "id": "_GaOurMB15VG"
   },
   "source": [
    "## Descartando entradas nos eixos"
   ]
  },
  {
   "cell_type": "markdown",
   "metadata": {
    "id": "tw7jVeXC6Jvc"
   },
   "source": [
    "A coluna de customerID é o código único que cada cliente recebe no banco de dados. Esse tipo de coluna não acrescenta nenhuma informação sobre as características do cliente, apenas está aumentando o número de colunas disponíveis no conjunto de dados."
   ]
  },
  {
   "cell_type": "markdown",
   "metadata": {
    "id": "farWMuWiCnXh"
   },
   "source": [
    "Antes de removermos a coluna desejada podemos checar via método `columns` o nome das colunas que temos nesse conjunto de dados:"
   ]
  },
  {
   "cell_type": "code",
   "execution_count": null,
   "metadata": {
    "id": "BBA1vuaxCQsW"
   },
   "outputs": [],
   "source": [
    "import pandas as pd"
   ]
  },
  {
   "cell_type": "markdown",
   "metadata": {
    "id": "vxS0Y6HL6flo"
   },
   "source": [
    "Dessa forma vamos aprender a remover uma coluna usando o método `drop` do pandas. Para isso, usamos o seguinte comando: `dados.drop([\"coluna_1\", \"coluna_2\",...,\"coluna_n\"], axis=1, inplace = True)`.\n",
    "\n",
    "*   Em coluna_1, coluna_2, ..., coluna_n precisamos apenas informar o nome da coluna que desejamos excluir.\n",
    "\n",
    "*   O parâmetro `axis=1` para informar que iremos remover uma coluna.  Caso você desejar remover uma linha use `axis=0`.\n",
    "\n",
    "*   O parâmetro `inplace=True` para garantir que o valor será removido\n",
    "\n",
    "Vamos checar alguns exemplos:"
   ]
  },
  {
   "cell_type": "markdown",
   "metadata": {
    "id": "pXuz0S6qBgJ8"
   },
   "source": [
    "**Exemplo 1.** Removendo mais de uma coluna e não usando o argumento `inplace=True`:"
   ]
  },
  {
   "cell_type": "code",
   "execution_count": null,
   "metadata": {
    "id": "7Qag0jlO1ehU"
   },
   "outputs": [],
   "source": []
  },
  {
   "cell_type": "markdown",
   "metadata": {
    "id": "cesX-EGmEQ7p"
   },
   "source": [
    "**Exemplo 2.** Removendo a coluna desejada (customerID) e usando o argumento `inplace=True`:"
   ]
  },
  {
   "cell_type": "code",
   "execution_count": null,
   "metadata": {
    "id": "seNugMLEELGO"
   },
   "outputs": [],
   "source": []
  },
  {
   "cell_type": "code",
   "execution_count": null,
   "metadata": {
    "id": "PJLma57ZEWlP"
   },
   "outputs": [],
   "source": []
  },
  {
   "cell_type": "markdown",
   "metadata": {
    "id": "jhADOVu4haB-"
   },
   "source": [
    "O segundo exemplo foi persistente e alterou os dados. Deixaremos assim, uma vez que a coluna de customerID não é útil para o nosso projeto."
   ]
  },
  {
   "cell_type": "markdown",
   "metadata": {
    "id": "q1MS5NAtjulz"
   },
   "source": [
    "## Verificando por valores nulos"
   ]
  },
  {
   "cell_type": "markdown",
   "metadata": {
    "id": "dKi4k8tQjz8V"
   },
   "source": [
    "Podemos usar o método `isnull()` para verificar se temos valores nulos que foram armazenados no nosso conjunto de dados:"
   ]
  },
  {
   "cell_type": "code",
   "execution_count": null,
   "metadata": {
    "id": "7LLLs8sFj6-C"
   },
   "outputs": [],
   "source": []
  },
  {
   "cell_type": "markdown",
   "metadata": {
    "id": "YeDYCTLsj9cS"
   },
   "source": [
    "Entretanto o resultado não foi o suficiente para visualizarmos se as colunas possuem valores nulos. Para isso, iremos adicionar o método `sum()` que irá somar todos os valores de todas as colunas. Como temos valores booleanos (`True` e `False`) a soma considerará `True` como 1 e `False` como 0."
   ]
  },
  {
   "cell_type": "code",
   "execution_count": null,
   "metadata": {
    "id": "Z2h2ZMyPkThW"
   },
   "outputs": [],
   "source": []
  },
  {
   "cell_type": "code",
   "execution_count": null,
   "metadata": {
    "id": "QPPjxaKAl8QE"
   },
   "outputs": [],
   "source": []
  },
  {
   "cell_type": "markdown",
   "metadata": {
    "id": "7_KlPPW0kXmZ"
   },
   "source": [
    "Temos poucos valores nulos nas colunas \"Partner\", \"tenure\", \"InternetService\" e \"OnlineBackup\". Esses valores, podem atrapalhar algumas análises nesses dados. Por isso, iremos aprender a excluir as linhas que contêm essas entradas usando o método `dropna()`. **No futuro iremos aprender a substituir esses valores por outros valores númericos de interesse.**"
   ]
  },
  {
   "cell_type": "code",
   "execution_count": null,
   "metadata": {
    "id": "EcGF7ZLak8Qh"
   },
   "outputs": [],
   "source": []
  },
  {
   "cell_type": "code",
   "execution_count": null,
   "metadata": {
    "id": "kLm2oe23k9y5"
   },
   "outputs": [],
   "source": []
  },
  {
   "cell_type": "markdown",
   "metadata": {
    "id": "IOdu5bKIlDj_"
   },
   "source": [
    "Podemos observar que não temos mais as linhas nulas após excluir as mesmas do nosso conjunto de dados."
   ]
  },
  {
   "cell_type": "markdown",
   "metadata": {
    "id": "qBQxEMFkD6k5"
   },
   "source": [
    "## Criando novas colunas no seu DataFrame"
   ]
  },
  {
   "cell_type": "markdown",
   "metadata": {
    "id": "kLF9AVjHD_1J"
   },
   "source": [
    "Podemos criar uma coluna a partir de outra existente para realizar algum tratamento dos dados ou para realizarmos uma operação matemática que achamos que possa ser interessante para adicionar mais um atributo (coluna) ao nosso conjunto de dados. Por exemplo, temos o valor total gasto pelos clientes e o valor que eles pagaram por mês. Podemos adicionar uma coluna de tempo de contrato, para sabermos quanto tempo eles estão ou ficaram com a assinatura deles:"
   ]
  },
  {
   "cell_type": "code",
   "execution_count": null,
   "metadata": {
    "id": "X-k9YlZ0J5w3"
   },
   "outputs": [],
   "source": []
  },
  {
   "cell_type": "code",
   "execution_count": null,
   "metadata": {
    "id": "i4YcrVxCJ_hA"
   },
   "outputs": [],
   "source": []
  },
  {
   "cell_type": "markdown",
   "metadata": {
    "id": "9QdTQm4CtOGq"
   },
   "source": [
    "Podemos acessar o nome das colunas usando o atributo `columns`:"
   ]
  },
  {
   "cell_type": "code",
   "execution_count": null,
   "metadata": {
    "id": "_RTPC9cuikzb"
   },
   "outputs": [],
   "source": []
  },
  {
   "cell_type": "markdown",
   "metadata": {
    "id": "V5VhR2YhtTgE"
   },
   "source": [
    "Se copiarmos os nomes das colunas e alterarmos a ordem delas, podemos reorganizá-las como desejarmos:"
   ]
  },
  {
   "cell_type": "code",
   "execution_count": null,
   "metadata": {
    "id": "6mT_y1nKin-8"
   },
   "outputs": [],
   "source": []
  },
  {
   "cell_type": "markdown",
   "metadata": {
    "id": "lIAR3ARqrN6H"
   },
   "source": [
    "## Verificando valores únicos em cada coluna"
   ]
  },
  {
   "cell_type": "markdown",
   "metadata": {
    "id": "2k7QDwOzrT_S"
   },
   "source": [
    "Podemos checar os valores que aparecem em cada coluna com o método `unique()`:"
   ]
  },
  {
   "cell_type": "code",
   "execution_count": null,
   "metadata": {
    "id": "lFaLH6v-rXe_"
   },
   "outputs": [],
   "source": []
  },
  {
   "cell_type": "code",
   "execution_count": null,
   "metadata": {
    "id": "Wes2sasZspGN"
   },
   "outputs": [],
   "source": []
  },
  {
   "cell_type": "code",
   "execution_count": null,
   "metadata": {
    "id": "kqYYHG8rsvTd"
   },
   "outputs": [],
   "source": []
  },
  {
   "cell_type": "code",
   "execution_count": null,
   "metadata": {
    "id": "Ipoi6alLttPe"
   },
   "outputs": [],
   "source": []
  },
  {
   "cell_type": "markdown",
   "metadata": {
    "id": "F64weuc_z7ur"
   },
   "source": [
    "## Agrupamentos de dados"
   ]
  },
  {
   "cell_type": "markdown",
   "metadata": {
    "id": "caEp5HVlz_FV"
   },
   "source": [
    "Podemos fazer alguns agrupamentos de dados para observar valores estatisticos como por exemplo a média aritmética. A média aritmética é uma medida de tendência central cujo valor é calculado por:\n",
    "\n"
   ]
  },
  {
   "cell_type": "markdown",
   "metadata": {
    "id": "F1gPKXpv2wOD"
   },
   "source": [
    "$\\bar{x} = \\frac{\\sum_{i=0}^{i=n}{x_{i}}}{n}$"
   ]
  },
  {
   "cell_type": "markdown",
   "metadata": {
    "id": "q9JwDlIa4aIK"
   },
   "source": [
    "Onde $x_{i}$ é o iésimo termo do item que desejo calcular a média, $n$ é o número de elementos que desejo calcular a média e $\\bar{x}$ é a média aritmética"
   ]
  },
  {
   "cell_type": "markdown",
   "metadata": {
    "id": "zW8Gqw5y2EVk"
   },
   "source": [
    "O agrupamento pode ser feito via comando `df[\"coluna_valor_analisado\"].groupby([dados[\"coluna_agrupamento_1\"], dados[\"coluna_agrupamento_2\"], ..., dados[\"coluna_agrupamento_n\"]]).mean()`, onde `df` deve ser o seu DataFrame, `\"coluna_valor_analisado\"` é a coluna com o valor numérico que você deseja analisar, e de `\"coluna_agrupamento_1\"` até `coluna_agrupamento_n` informamos as colunas que iremos agrupar os nossos dados."
   ]
  },
  {
   "cell_type": "code",
   "execution_count": null,
   "metadata": {
    "id": "xujzJLzQz_Kd"
   },
   "outputs": [],
   "source": []
  },
  {
   "cell_type": "markdown",
   "metadata": {
    "id": "93j_i__-4wyN"
   },
   "source": [
    "Podemos observar que os clientes que tem maior tempo de contrato são os que mais estão cancelando a sua assinatura com a empresa de Telecom. Poderiamos usar essa informação para criar campanhas de marketing e promoções para manter esses clientes com seus contratos."
   ]
  },
  {
   "cell_type": "markdown",
   "metadata": {
    "id": "6p7mn3vhSP9z"
   },
   "source": [
    "Podemos também usar o método sum() para somar os valores do agrupamento:"
   ]
  },
  {
   "cell_type": "code",
   "execution_count": null,
   "metadata": {
    "id": "dnKLB5IFSKIr"
   },
   "outputs": [],
   "source": []
  },
  {
   "cell_type": "code",
   "execution_count": null,
   "metadata": {
    "id": "fWVSSJZW5GHv"
   },
   "outputs": [],
   "source": []
  },
  {
   "cell_type": "markdown",
   "metadata": {
    "id": "2ZPmnDDN6Pzg"
   },
   "source": [
    "**O que podemos concluir com o resultado acima?**"
   ]
  },
  {
   "cell_type": "markdown",
   "metadata": {
    "id": "5l1gHYI3vpEb"
   },
   "source": [
    "## Criando gráfico de Barras simples"
   ]
  },
  {
   "cell_type": "markdown",
   "metadata": {
    "id": "v1xsKKvMwwEo"
   },
   "source": [
    "Vamos criar um gráfico em barras simples para começarmos a nos familiarizarmos com o plot de gráficos usando o bibliotecas do python. Para isso, vamos usar o `seaborn` que irá permitir que sejam criados diferentes gráficos para os dados que temos no pandas."
   ]
  },
  {
   "cell_type": "code",
   "execution_count": null,
   "metadata": {
    "id": "HskPbL4JvsZt"
   },
   "outputs": [],
   "source": []
  },
  {
   "cell_type": "markdown",
   "metadata": {
    "id": "_Q5vvg-WxNdg"
   },
   "source": [
    "O `sns.countplot()` é usado para fazer um gráfico de barras usando dados **categóricos**. Para isso, basta inserir dentro dos seus parenteses uma coluna do seu DataFrame que você deseja visualizar."
   ]
  },
  {
   "cell_type": "code",
   "execution_count": null,
   "metadata": {
    "id": "x6YouT5LvveO"
   },
   "outputs": [],
   "source": []
  },
  {
   "cell_type": "markdown",
   "metadata": {
    "id": "_BtHdhgMzAgM"
   },
   "source": [
    "Podemos ver que a maioria das pessoas optam por pagamentos via *Electronic check*, que é o débito na conta dessas pessoas."
   ]
  },
  {
   "cell_type": "code",
   "execution_count": null,
   "metadata": {
    "id": "qk9JpOhFy4Tw"
   },
   "outputs": [],
   "source": []
  },
  {
   "cell_type": "markdown",
   "metadata": {
    "id": "2Hn5jGwtzMia"
   },
   "source": [
    "Com relação ao genero, os clientes são bem distribuidos entre os dois possíveis generos que existem nesse conjunto de dados."
   ]
  }
 ],
 "metadata": {
  "colab": {
   "provenance": []
  },
  "kernelspec": {
   "display_name": "Python 3",
   "name": "python3"
  },
  "language_info": {
   "codemirror_mode": {
    "name": "ipython",
    "version": 3
   },
   "file_extension": ".py",
   "mimetype": "text/x-python",
   "name": "python",
   "nbconvert_exporter": "python",
   "pygments_lexer": "ipython3",
   "version": "3.13.2"
  }
 },
 "nbformat": 4,
 "nbformat_minor": 0
}
