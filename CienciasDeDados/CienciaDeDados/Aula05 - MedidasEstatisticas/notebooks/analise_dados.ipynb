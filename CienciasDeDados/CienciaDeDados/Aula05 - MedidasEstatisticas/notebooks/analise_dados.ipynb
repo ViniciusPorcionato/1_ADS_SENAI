{
 "cells": [
  {
   "cell_type": "markdown",
   "metadata": {},
   "source": [
    "Exercício: Análise Estatística de Notas de Alunos\n",
    "Você é um cientista de dados atuando em uma instituição de ensino. A equipe pedagógica solicitou uma análise detalhada de desempenho dos alunos a partir de um arquivo com 200 notas.\n",
    "\n",
    "Preencha as células de código abaixo com os cálculos e gráficos solicitados.\n",
    "\n",
    "1. Importação de bibliotecas"
   ]
  },
  {
   "cell_type": "code",
   "execution_count": 2,
   "metadata": {},
   "outputs": [],
   "source": [
    "# 📦 Escreva aqui os imports necessários\n",
    "\n",
    "import pandas as pd         # Importa a biblioteca pandas, usada para manipulação e análise de dados em formato de tabelas (DataFrames).\n",
    "import numpy as np          # Importa a biblioteca NumPy, útil para operações matemáticas e estatísticas com arrays.\n",
    "import seaborn as sns       # Importa o Seaborn, biblioteca de visualização baseada no matplotlib, com foco em estatísticas.\n",
    "import matplotlib.pyplot as plt  # Importa o matplotlib, biblioteca para criar gráficos e visualizações personalizadas.\n",
    "from scipy import stats     # Importa funções estatísticas avançadas da biblioteca SciPy (ex: moda, testes de normalidade, etc).\n",
    "\n",
    "# Configuração dos gráficos\n",
    "\n",
    "sns.set(style=\"whitegrid\")  # Define o estilo visual dos gráficos do Seaborn como \"whitegrid\", que deixa o fundo branco com uma grade leve.\n",
    "plt.rcParams[\"figure.figsize\"] = (10, 6)  # Define o tamanho padrão dos gráficos gerados (largura 10, altura 6).\n"
   ]
  },
  {
   "cell_type": "markdown",
   "metadata": {},
   "source": [
    "2. Leitura do dataset"
   ]
  },
  {
   "cell_type": "code",
   "execution_count": 4,
   "metadata": {},
   "outputs": [
    {
     "data": {
      "text/html": [
       "<div>\n",
       "<style scoped>\n",
       "    .dataframe tbody tr th:only-of-type {\n",
       "        vertical-align: middle;\n",
       "    }\n",
       "\n",
       "    .dataframe tbody tr th {\n",
       "        vertical-align: top;\n",
       "    }\n",
       "\n",
       "    .dataframe thead th {\n",
       "        text-align: right;\n",
       "    }\n",
       "</style>\n",
       "<table border=\"1\" class=\"dataframe\">\n",
       "  <thead>\n",
       "    <tr style=\"text-align: right;\">\n",
       "      <th></th>\n",
       "      <th>ID_Aluno</th>\n",
       "      <th>Nota</th>\n",
       "    </tr>\n",
       "  </thead>\n",
       "  <tbody>\n",
       "    <tr>\n",
       "      <th>0</th>\n",
       "      <td>1</td>\n",
       "      <td>7.7</td>\n",
       "    </tr>\n",
       "    <tr>\n",
       "      <th>1</th>\n",
       "      <td>2</td>\n",
       "      <td>6.8</td>\n",
       "    </tr>\n",
       "    <tr>\n",
       "      <th>2</th>\n",
       "      <td>3</td>\n",
       "      <td>8.0</td>\n",
       "    </tr>\n",
       "    <tr>\n",
       "      <th>3</th>\n",
       "      <td>4</td>\n",
       "      <td>9.3</td>\n",
       "    </tr>\n",
       "    <tr>\n",
       "      <th>4</th>\n",
       "      <td>5</td>\n",
       "      <td>6.6</td>\n",
       "    </tr>\n",
       "  </tbody>\n",
       "</table>\n",
       "</div>"
      ],
      "text/plain": [
       "   ID_Aluno  Nota\n",
       "0         1   7.7\n",
       "1         2   6.8\n",
       "2         3   8.0\n",
       "3         4   9.3\n",
       "4         5   6.6"
      ]
     },
     "execution_count": 4,
     "metadata": {},
     "output_type": "execute_result"
    }
   ],
   "source": [
    "# 📂 Leia o arquivo notas_alunos.csv aqui\n",
    "dados = pd.read_csv('../data/notas_alunos.csv')  # Lê o arquivo CSV 'notas_alunos.csv' localizado no diretório '../data' e armazena os dados na variável 'dados'.\n",
    "\n",
    "# Limpeza dos nomes de colunas (caso venham com espaços)\n",
    "dados.columns = dados.columns.str.strip()  # Remove espaços em branco extras do início e do fim de cada nome de coluna.\n",
    "\n",
    "# Visualizar as 5 primeiras linhas\n",
    "dados.head()  # Exibe as 5 primeiras linhas do DataFrame para uma rápida visualização dos dados.\n"
   ]
  },
  {
   "cell_type": "markdown",
   "metadata": {},
   "source": [
    "3. Estatística Descritiva"
   ]
  },
  {
   "cell_type": "code",
   "execution_count": 5,
   "metadata": {},
   "outputs": [
    {
     "name": "stdout",
     "output_type": "stream",
     "text": [
      "Média: 6.92\n",
      "Moda: 7.5\n",
      "Mediana: 7.0\n",
      "Variância: 1.87\n",
      "Desvio Padrão: 1.37\n",
      "Amplitude: 6.90\n",
      "Nota mínima: 3.1\n",
      "Nota máxima: 10.0\n"
     ]
    }
   ],
   "source": [
    "# 📊 Calcule e imprima: média, moda, mediana, variância, desvio padrão, amplitude, nota mínima e máxima\n",
    "\n",
    "notas = dados['Nota']  # Acessa a coluna 'Nota' do DataFrame 'dados' e armazena os valores na variável 'notas'.\n",
    "\n",
    "media = notas.mean()  # Calcula a média dos valores da coluna 'Nota' e armazena em 'media'.\n",
    "moda = stats.mode(notas, keepdims=True).mode[0]  # Calcula a moda (valor mais frequente) da coluna 'Nota' e armazena em 'moda'. 'keepdims=True' mantém a dimensão do resultado.\n",
    "mediana = notas.median()  # Calcula a mediana (valor do meio) dos valores da coluna 'Nota' e armazena em 'mediana'.\n",
    "variancia = notas.var()  # Calcula a variância dos valores da coluna 'Nota' e armazena em 'variancia'.\n",
    "desvio_padrao = notas.std()  # Calcula o desvio padrão (quantificação da dispersão) dos valores da coluna 'Nota' e armazena em 'desvio_padrao'.\n",
    "amplitude = notas.max() - notas.min()  # Calcula a amplitude (diferença entre a maior e a menor nota) e armazena em 'amplitude'.\n",
    "nota_min = notas.min()  # Acessa a nota mínima da coluna 'Nota' e armazena em 'nota_min'.\n",
    "nota_max = notas.max()  # Acessa a nota máxima da coluna 'Nota' e armazena em 'nota_max'.\n",
    "\n",
    "# Exibe os valores calculados com formatação apropriada\n",
    "print(f\"Média: {media:.2f}\")  # Imprime a média com duas casas decimais.\n",
    "print(f\"Moda: {moda}\")  # Imprime a moda.\n",
    "print(f\"Mediana: {mediana}\")  # Imprime a mediana.\n",
    "print(f\"Variância: {variancia:.2f}\")  # Imprime a variância com duas casas decimais.\n",
    "print(f\"Desvio Padrão: {desvio_padrao:.2f}\")  # Imprime o desvio padrão com duas casas decimais.\n",
    "print(f\"Amplitude: {amplitude:.2f}\")  # Imprime a amplitude com duas casas decimais.\n",
    "print(f\"Nota mínima: {nota_min}\")  # Imprime a nota mínima.\n",
    "print(f\"Nota máxima: {nota_max}\")  # Imprime a nota máxima.\n"
   ]
  },
  {
   "cell_type": "markdown",
   "metadata": {},
   "source": [
    "4. Classificação por faixas de nota"
   ]
  },
  {
   "cell_type": "code",
   "execution_count": 23,
   "metadata": {},
   "outputs": [
    {
     "name": "stdout",
     "output_type": "stream",
     "text": [
      "Insuficiente:      ID_Aluno  Nota         Faixa\n",
      "13         14   4.1  Insuficiente\n",
      "14         15   4.4  Insuficiente\n",
      "19         20   4.9  Insuficiente\n",
      "23         24   4.9  Insuficiente\n",
      "37         38   4.1  Insuficiente\n",
      "44         45   4.8  Insuficiente\n",
      "49         50   4.4  Insuficiente\n",
      "74         75   3.1  Insuficiente\n",
      "79         80   4.0  Insuficiente\n",
      "95         96   4.8  Insuficiente\n",
      "100       101   4.9  Insuficiente\n",
      "110       111   4.1  Insuficiente\n",
      "123       124   4.9  Insuficiente\n",
      "130       131   4.7  Insuficiente\n",
      "142       143   4.6  Insuficiente\n",
      "189       190   4.7  Insuficiente\n",
      "Regular:      ID_Aluno  Nota    Faixa\n",
      "1           2   6.8  Regular\n",
      "4           5   6.6  Regular\n",
      "5           6   6.6  Regular\n",
      "8           9   6.3  Regular\n",
      "10         11   6.3  Regular\n",
      "..        ...   ...      ...\n",
      "188       189   5.7  Regular\n",
      "190       191   6.3  Regular\n",
      "193       194   5.1  Regular\n",
      "196       197   5.7  Regular\n",
      "199       200   5.3  Regular\n",
      "\n",
      "[82 rows x 3 columns]\n",
      "Bom:      ID_Aluno  Nota Faixa\n",
      "0           1   7.7   Bom\n",
      "2           3   8.0   Bom\n",
      "7           8   8.2   Bom\n",
      "9          10   7.8   Bom\n",
      "12         13   7.4   Bom\n",
      "..        ...   ...   ...\n",
      "192       193   7.3   Bom\n",
      "194       195   7.3   Bom\n",
      "195       196   7.6   Bom\n",
      "197       198   7.2   Bom\n",
      "198       199   7.1   Bom\n",
      "\n",
      "[84 rows x 3 columns]\n",
      "Excelente:      ID_Aluno  Nota      Faixa\n",
      "3           4   9.3  Excelente\n",
      "6           7   9.4  Excelente\n",
      "20         21   9.2  Excelente\n",
      "31         32   9.8  Excelente\n",
      "65         66   9.0  Excelente\n",
      "71         72   9.3  Excelente\n",
      "73         74   9.3  Excelente\n",
      "82         83   9.2  Excelente\n",
      "106       107   9.8  Excelente\n",
      "113       114  10.0  Excelente\n",
      "122       123   9.1  Excelente\n",
      "125       126  10.0  Excelente\n",
      "135       136   9.3  Excelente\n",
      "141       142   9.0  Excelente\n",
      "156       157   9.8  Excelente\n",
      "167       168   9.8  Excelente\n",
      "177       178   9.2  Excelente\n",
      "179       180  10.0  Excelente\n"
     ]
    }
   ],
   "source": [
    "Insuficiente = dados[(dados['Nota'] >= 0) & (dados['Nota'] <= 4.9)]\n",
    "Regular = dados[(dados['Nota'] >= 5) & (dados['Nota'] <= 6.9)]\n",
    "Bom = dados[(dados['Nota'] >= 7) & (dados['Nota'] <= 8.9)]\n",
    "Excelente = dados[(dados['Nota'] >= 9) & (dados['Nota'] <= 10)]\n",
    "\n",
    "print(f'Insuficiente: {Insuficiente}')\n",
    "print(f'Regular: {Regular}')\n",
    "print(f'Bom: {Bom}')\n",
    "print(f'Excelente: {Excelente}')"
   ]
  },
  {
   "cell_type": "markdown",
   "metadata": {},
   "source": [
    "5. Tabela com contagem e porcentagem por faixa"
   ]
  },
  {
   "cell_type": "code",
   "execution_count": 29,
   "metadata": {},
   "outputs": [
    {
     "name": "stdout",
     "output_type": "stream",
     "text": [
      "\n",
      "📋 Tabela de distribuição por faixa:\n",
      "              Quantidade  Porcentagem (%)\n",
      "Faixa                                    \n",
      "Insuficiente          16              8.0\n",
      "Regular               82             41.0\n",
      "Bom                   84             42.0\n",
      "Excelente             18              9.0\n"
     ]
    }
   ],
   "source": [
    "# 🧾 Tabela com quantidade e porcentagem\n",
    "contagem_faixas = dados['Faixa'].value_counts().sort_index()\n",
    "porcentagem_faixas = dados['Faixa'].value_counts(normalize=True).sort_index() * 100\n",
    "\n",
    "tabela_faixas = pd.DataFrame({\n",
    "    'Quantidade': contagem_faixas,\n",
    "    'Porcentagem (%)': porcentagem_faixas.round(2)\n",
    "})\n",
    "\n",
    "print(\"\\n📋 Tabela de distribuição por faixa:\")\n",
    "print(tabela_faixas)"
   ]
  },
  {
   "cell_type": "markdown",
   "metadata": {},
   "source": [
    "6. Gráficos\n",
    "\n",
    "a) Histograma com KDE"
   ]
  },
  {
   "cell_type": "code",
   "execution_count": 9,
   "metadata": {},
   "outputs": [
    {
     "data": {
      "image/png": "[encoded data removed]",
      "text/plain": [
       "<Figure size 1000x600 with 1 Axes>"
      ]
     },
     "metadata": {},
     "output_type": "display_data"
    }
   ],
   "source": [
    "# 📊 Gere um histograma com KDE da distribuição de notas\n",
    "\n",
    "sns.histplot(dados['Nota'], bins=10, kde=True, color='red')  # Gera o histograma das notas da coluna 'Nota', com 10 bins (intervalos), incluindo a curva de densidade (KDE) e colorido em vermelho.\n",
    "plt.title('Distribuição das Notas')  # Adiciona o título \"Distribuição das Notas\" ao gráfico.\n",
    "plt.xlabel('Nota')  # Define o rótulo do eixo X como \"Nota\".\n",
    "plt.ylabel('Frequência')  # Define o rótulo do eixo Y como \"Frequência\".\n",
    "plt.show()  # Exibe o gráfico gerado.\n"
   ]
  },
  {
   "cell_type": "markdown",
   "metadata": {},
   "source": [
    "b) Boxplot das notas"
   ]
  },
  {
   "cell_type": "code",
   "execution_count": 10,
   "metadata": {},
   "outputs": [
    {
     "data": {
      "image/png": "[encoded data removed]",
      "text/plain": [
       "<Figure size 1000x600 with 1 Axes>"
      ]
     },
     "metadata": {},
     "output_type": "display_data"
    }
   ],
   "source": [
    "# 📦 Gere um boxplot das notas\n",
    "\n",
    "sns.boxplot(x=dados['Nota'], color='red')  # Cria um boxplot das notas da coluna 'Nota', usando a cor vermelha para o gráfico.\n",
    "plt.title('Boxplot das Notas')  # Adiciona o título \"Boxplot das Notas\" ao gráfico.\n",
    "plt.xlabel('Nota')  # Define o rótulo do eixo X como \"Nota\".\n",
    "plt.show()  # Exibe o gráfico do boxplot.\n"
   ]
  },
  {
   "cell_type": "markdown",
   "metadata": {},
   "source": [
    "c) Gráfico de barras das faixas de nota"
   ]
  },
  {
   "cell_type": "code",
   "execution_count": 30,
   "metadata": {},
   "outputs": [
    {
     "name": "stderr",
     "output_type": "stream",
     "text": [
      "C:\\Users\\25170641\\AppData\\Local\\Temp\\ipykernel_17608\\1053596249.py:3: FutureWarning: \n",
      "\n",
      "Passing `palette` without assigning `hue` is deprecated and will be removed in v0.14.0. Assign the `x` variable to `hue` and set `legend=False` for the same effect.\n",
      "\n",
      "  sns.countplot(x='Faixa', data=dados, palette='pastel')\n"
     ]
    },
    {
     "data": {
      "image/png": "[encoded data removed]",
      "text/plain": [
       "<Figure size 800x600 with 1 Axes>"
      ]
     },
     "metadata": {},
     "output_type": "display_data"
    }
   ],
   "source": [
    "# 📊 Gráfico de barras por faixa\n",
    "plt.figure(figsize=(8, 6))\n",
    "sns.countplot(x='Faixa', data=dados, palette='pastel')\n",
    "plt.title('Número de Alunos por Faixa de Nota')\n",
    "plt.xlabel('Faixa de Nota')\n",
    "plt.ylabel('Número de Alunos')\n",
    "plt.show()"
   ]
  },
  {
   "cell_type": "markdown",
   "metadata": {},
   "source": [
    "7. Conclusão\n",
    "\n",
    "\n",
    "Propostas Pedagógicas:\n",
    "\n",
    "Intervenções de apoio para estudantes com dificuldades:\n",
    "Levando em conta a presença de alunos com desempenho classificado como \"Regular\" e possíveis casos isolados com baixo rendimento, propõe-se a formação de grupos de apoio e sessões de tutoria focadas na revisão dos fundamentos da disciplina. A intenção é diminuir as diferenças de desempenho por meio de um acompanhamento individualizado, que permita identificar lacunas no aprendizado e desenvolver um plano de estudos adaptado às necessidades de cada aluno.\n",
    "\n",
    "Atividades ampliadas para estudantes com alto rendimento:\n",
    "Para os alunos que se destacam com desempenho \"Excelente\", é interessante oferecer propostas mais desafiadoras, como projetos investigativos ou atividades de aprofundamento. Essas ações visam estimular competências mais complexas e promover o engajamento com conteúdos além do currículo padrão, incentivando o pensamento crítico e a autonomia no processo de aprendizagem."
   ]
  }
 ],
 "metadata": {
  "kernelspec": {
   "display_name": "Python 3",
   "language": "python",
   "name": "python3"
  },
  "language_info": {
   "codemirror_mode": {
    "name": "ipython",
    "version": 3
   },
   "file_extension": ".py",
   "mimetype": "text/x-python",
   "name": "python",
   "nbconvert_exporter": "python",
   "pygments_lexer": "ipython3",
   "version": "3.13.3"
  }
 },
 "nbformat": 4,
 "nbformat_minor": 2
}
