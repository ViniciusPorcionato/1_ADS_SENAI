{
 "cells": [
  {
   "cell_type": "markdown",
   "metadata": {},
   "source": [
    "Media"
   ]
  },
  {
   "cell_type": "code",
   "execution_count": 1,
   "metadata": {},
   "outputs": [
    {
     "name": "stdout",
     "output_type": "stream",
     "text": [
      "Média da Temperatura 22.85\n"
     ]
    }
   ],
   "source": [
    "import numpy as np\n",
    "\n",
    "temperaturas = [22.5, 23.0, 22.8, 23.2, 22.9, 22.7, 23.1, 22.6]\n",
    "print(\"Média da Temperatura\", np.mean(temperaturas))"
   ]
  },
  {
   "cell_type": "markdown",
   "metadata": {},
   "source": [
    "Mediana"
   ]
  },
  {
   "cell_type": "code",
   "execution_count": 2,
   "metadata": {},
   "outputs": [
    {
     "name": "stdout",
     "output_type": "stream",
     "text": [
      "Mediana do Tempo de Resposta 19.0\n"
     ]
    }
   ],
   "source": [
    "tempos_resposta = [18, 20, 17, 19, 21, 16, 22]\n",
    "print(\"Mediana do Tempo de Resposta\", np.median(tempos_resposta))"
   ]
  },
  {
   "cell_type": "markdown",
   "metadata": {},
   "source": [
    "Moda das Falhas"
   ]
  },
  {
   "cell_type": "code",
   "execution_count": 6,
   "metadata": {},
   "outputs": [
    {
     "name": "stdout",
     "output_type": "stream",
     "text": [
      "Moda das falhas: [101]\n"
     ]
    }
   ],
   "source": [
    "import pandas as pd\n",
    "falhas = pd.Series([101, 102, 103, 101, 104, 101, 102])\n",
    "print(\"Moda das falhas:\", falhas.mode().tolist())"
   ]
  },
  {
   "cell_type": "code",
   "execution_count": 7,
   "metadata": {},
   "outputs": [
    {
     "name": "stdout",
     "output_type": "stream",
     "text": [
      "Moda das falhas: 101\n"
     ]
    }
   ],
   "source": [
    "# prompt: calculo de moda usando nupy\n",
    "\n",
    "import numpy as np\n",
    "from scipy import stats\n",
    "\n",
    "falhas = np.array([101, 102, 103, 101, 104, 101, 102])\n",
    "print(\"Moda das falhas:\", stats.mode(falhas)[0].tolist())"
   ]
  },
  {
   "cell_type": "markdown",
   "metadata": {},
   "source": [
    "Vairância do tempo"
   ]
  },
  {
   "cell_type": "code",
   "execution_count": 8,
   "metadata": {},
   "outputs": [
    {
     "name": "stdout",
     "output_type": "stream",
     "text": [
      "Variância do Tempo de Transporte: 2.2333333333333334\n"
     ]
    }
   ],
   "source": [
    "tempos_esteira =[30, 31, 29, 30, 32, 28, 29, 33, 31,30]\n",
    "print(\"Variância do Tempo de Transporte:\", np.var(tempos_esteira,ddof=1))"
   ]
  },
  {
   "cell_type": "markdown",
   "metadata": {},
   "source": [
    "Desvio Padrão"
   ]
  },
  {
   "cell_type": "code",
   "execution_count": 9,
   "metadata": {},
   "outputs": [
    {
     "name": "stdout",
     "output_type": "stream",
     "text": [
      "Desvio Padrão do Consumo: 7.118052168020874\n"
     ]
    }
   ],
   "source": [
    "consumo = [200, 195, 210, 205, 190, 198]\n",
    "print(\"Desvio Padrão do Consumo:\", np.std(consumo,ddof=1))"
   ]
  },
  {
   "cell_type": "markdown",
   "metadata": {},
   "source": [
    "Histograma"
   ]
  },
  {
   "cell_type": "code",
   "execution_count": 11,
   "metadata": {},
   "outputs": [
    {
     "name": "stdout",
     "output_type": "stream",
     "text": [
      "Média: 14.1\n",
      "Mediana: 14.0\n",
      "Moda: [12, 13, 14, 15]\n",
      "Variância: 2.766666666666667\n",
      "Desvio Padrão: 1.66332999331662\n"
     ]
    },
    {
     "data": {
      "image/png": "[encoded data removed]",
      "text/plain": [
       "<Figure size 640x480 with 1 Axes>"
      ]
     },
     "metadata": {},
     "output_type": "display_data"
    }
   ],
   "source": [
    "import numpy as np\n",
    "import pandas as pd\n",
    "import matplotlib.pyplot as plt\n",
    "\n",
    "#Dados ficticios de tempo de ciclo de uma máquina\n",
    "tempo_ciclo = [12, 15, 13,14, 16, 12, 17, 15, 14, 13]\n",
    "\n",
    "media = np.mean(tempo_ciclo)\n",
    "mediana = np.median(tempo_ciclo)\n",
    "moda = pd.Series(tempo_ciclo).mode().tolist()\n",
    "variancia = np.var(tempo_ciclo, ddof=1)\n",
    "desvio_padrao = np.std(tempo_ciclo, ddof=1)\n",
    "\n",
    "print(f\"Média: {media}\")\n",
    "print(f\"Mediana: {mediana}\")\n",
    "print(f\"Moda: {moda}\")\n",
    "print(f\"Variância: {variancia}\")\n",
    "print(f\"Desvio Padrão: {desvio_padrao}\")\n",
    "\n",
    "#Histograma\n",
    "plt.hist(tempo_ciclo, bins=100, edgecolor='black')\n",
    "plt.xlabel('Tempo de Ciclo')\n",
    "plt.ylabel('Frequência')\n",
    "plt.title('Histograma do Tempo de Ciclo')\n",
    "plt.grid(True)\n",
    "plt.show()"
   ]
  },
  {
   "cell_type": "markdown",
   "metadata": {},
   "source": [
    "Exercício"
   ]
  },
  {
   "cell_type": "code",
   "execution_count": 12,
   "metadata": {},
   "outputs": [
    {
     "name": "stdout",
     "output_type": "stream",
     "text": [
      "Resultados para a Máquina A:\n",
      "Média: 3.5\n",
      "Mediana: 3.5\n",
      "Moda: [3, 4]\n",
      "Variância: 1.1666666666666667\n",
      "Desvio Padrão: 1.0801234497346435\n",
      "--------------------\n",
      "Resultados para a Máquina B:\n",
      "Média: 5.9\n",
      "Mediana: 6.0\n",
      "Moda: [6]\n",
      "Variância: 0.5444444444444445\n",
      "Desvio Padrão: 0.7378647873726218\n",
      "--------------------\n",
      "Resultados para a Máquina C:\n",
      "Média: 2.6\n",
      "Mediana: 2.5\n",
      "Moda: [2]\n",
      "Variância: 0.9333333333333333\n",
      "Desvio Padrão: 0.9660917830792959\n",
      "--------------------\n",
      "1. Máquina com menor variabilidade na produção: Máquina B\n",
      "2. Máquina com maior frequência de defeitos: Máquina B\n",
      "3. Máquina mais consistente na produção: Máquina B\n"
     ]
    }
   ],
   "source": [
    "# prompt: Imagine que uma fábrica registra o número de produtos defeituosos por turno: defeituosos = [3, 4, 5, 2, 4, 3, 3, 5, 4, 2] Vamos calcular as estatísticas descritivas desse conjunto usando o mesmo código, trocando os dados. Isso pode ajudar a entender o desempenho da linha de produção em diferentes turnos e ajustar processos.\n",
    "# Você é um analista de dados responsável por monitorar a produção de três máquinas diferentes ao longo de 10 turnos. Cada máquina registra o número de peças com defeito por turno. Os dados coletados foram: Máquina A: [3, 2, 4, 5, 3, 4, 2, 3, 5, 4] Máquina B: [6, 5, 7, 6, 5, 6, 7, 6, 5, 6] Máquina C: [1, 3, 2, 4, 2, 3, 4, 2, 3, 2]\n",
    "# Para cada máquina, calcule as seguintes métricas: Média Mediana Moda Variância Desvio Padrão Com base nas análises, determine: 1.Qual máquina apresenta menor variabilidade na produção? 2.Qual máquina tem maior frequência de defeitos? 3.Qual máquina é mais consistente na produção?\n",
    "\n",
    "import numpy as np\n",
    "import pandas as pd\n",
    "\n",
    "maquina_a = [3, 2, 4, 5, 3, 4, 2, 3, 5, 4]\n",
    "maquina_b = [6, 5, 7, 6, 5, 6, 7, 6, 5, 6]\n",
    "maquina_c = [1, 3, 2, 4, 2, 3, 4, 2, 3, 2]\n",
    "\n",
    "maquinas = {\n",
    "    'A': maquina_a,\n",
    "    'B': maquina_b,\n",
    "    'C': maquina_c\n",
    "}\n",
    "\n",
    "resultados = {}\n",
    "\n",
    "for nome, dados in maquinas.items():\n",
    "    media = np.mean(dados)\n",
    "    mediana = np.median(dados)\n",
    "    moda = pd.Series(dados).mode().tolist()\n",
    "    variancia = np.var(dados, ddof=1)\n",
    "    desvio_padrao = np.std(dados, ddof=1)\n",
    "    resultados[nome] = {\n",
    "        'media': media,\n",
    "        'mediana': mediana,\n",
    "        'moda': moda,\n",
    "        'variancia': variancia,\n",
    "        'desvio_padrao': desvio_padrao\n",
    "    }\n",
    "    print(f\"Resultados para a Máquina {nome}:\")\n",
    "    print(f\"Média: {media}\")\n",
    "    print(f\"Mediana: {mediana}\")\n",
    "    print(f\"Moda: {moda}\")\n",
    "    print(f\"Variância: {variancia}\")\n",
    "    print(f\"Desvio Padrão: {desvio_padrao}\")\n",
    "    print(\"-\" * 20)\n",
    "\n",
    "# Análise\n",
    "# Menor variabilidade (menor desvio padrão):\n",
    "menor_variabilidade = min(resultados, key=lambda x: resultados[x]['desvio_padrao'])\n",
    "\n",
    "# Maior frequência de defeitos (maior média):\n",
    "maior_frequencia = max(resultados, key=lambda x: resultados[x]['media'])\n",
    "\n",
    "# Máquina mais consistente (menor desvio padrão):\n",
    "mais_consistente = min(resultados, key=lambda x: resultados[x]['desvio_padrao'])\n",
    "\n",
    "\n",
    "print(f\"1. Máquina com menor variabilidade na produção: Máquina {menor_variabilidade}\")\n",
    "print(f\"2. Máquina com maior frequência de defeitos: Máquina {maior_frequencia}\")\n",
    "print(f\"3. Máquina mais consistente na produção: Máquina {mais_consistente}\")"
   ]
  }
 ],
 "metadata": {
  "kernelspec": {
   "display_name": "Python 3",
   "language": "python",
   "name": "python3"
  },
  "language_info": {
   "codemirror_mode": {
    "name": "ipython",
    "version": 3
   },
   "file_extension": ".py",
   "mimetype": "text/x-python",
   "name": "python",
   "nbconvert_exporter": "python",
   "pygments_lexer": "ipython3",
   "version": "3.13.3"
  }
 },
 "nbformat": 4,
 "nbformat_minor": 2
}
