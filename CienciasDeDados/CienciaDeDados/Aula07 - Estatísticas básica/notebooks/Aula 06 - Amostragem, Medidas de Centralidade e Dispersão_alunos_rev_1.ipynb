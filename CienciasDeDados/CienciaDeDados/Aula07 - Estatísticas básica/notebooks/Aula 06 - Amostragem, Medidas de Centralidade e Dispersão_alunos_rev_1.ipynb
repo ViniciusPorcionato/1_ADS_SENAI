{
 "cells": [
  {
   "cell_type": "markdown",
   "metadata": {
    "id": "O4bAPD1_yfft"
   },
   "source": [
    "**Ciência de Dados**\n",
    "\n",
    "Prof. Miguel Bozer da Silva - miguel.bozer@senaisp.edu.br\n",
    "\n",
    "---"
   ]
  },
  {
   "cell_type": "markdown",
   "metadata": {
    "id": "N8SGAteGy_j2"
   },
   "source": [
    "# Bibliotecas da aula"
   ]
  },
  {
   "cell_type": "code",
   "execution_count": 1,
   "metadata": {
    "id": "-AmLCaMkyZwV"
   },
   "outputs": [],
   "source": [
    "import pandas as pd\n",
    "import numpy as np\n",
    "from matplotlib import pyplot as plt\n",
    "import seaborn as sns"
   ]
  },
  {
   "cell_type": "markdown",
   "metadata": {
    "id": "1DWWan8azrRc"
   },
   "source": [
    "# Recebendo o conjunto de Dados"
   ]
  },
  {
   "cell_type": "code",
   "execution_count": 7,
   "metadata": {
    "id": "ClNXYDE7zuJm"
   },
   "outputs": [],
   "source": [
    "peixes = pd.read_csv(\"../data/Fish.csv\" , sep=\",\")"
   ]
  },
  {
   "cell_type": "code",
   "execution_count": 8,
   "metadata": {
    "id": "OFZowPmJ0hYq"
   },
   "outputs": [
    {
     "data": {
      "text/html": [
       "<div>\n",
       "<style scoped>\n",
       "    .dataframe tbody tr th:only-of-type {\n",
       "        vertical-align: middle;\n",
       "    }\n",
       "\n",
       "    .dataframe tbody tr th {\n",
       "        vertical-align: top;\n",
       "    }\n",
       "\n",
       "    .dataframe thead th {\n",
       "        text-align: right;\n",
       "    }\n",
       "</style>\n",
       "<table border=\"1\" class=\"dataframe\">\n",
       "  <thead>\n",
       "    <tr style=\"text-align: right;\">\n",
       "      <th></th>\n",
       "      <th>Species</th>\n",
       "      <th>Weight</th>\n",
       "      <th>Length1</th>\n",
       "      <th>Length2</th>\n",
       "      <th>Length3</th>\n",
       "      <th>Height</th>\n",
       "      <th>Width</th>\n",
       "    </tr>\n",
       "  </thead>\n",
       "  <tbody>\n",
       "    <tr>\n",
       "      <th>0</th>\n",
       "      <td>Bream</td>\n",
       "      <td>242.0</td>\n",
       "      <td>23.2</td>\n",
       "      <td>25.4</td>\n",
       "      <td>30.0</td>\n",
       "      <td>11.5200</td>\n",
       "      <td>4.0200</td>\n",
       "    </tr>\n",
       "    <tr>\n",
       "      <th>1</th>\n",
       "      <td>Bream</td>\n",
       "      <td>290.0</td>\n",
       "      <td>24.0</td>\n",
       "      <td>26.3</td>\n",
       "      <td>31.2</td>\n",
       "      <td>12.4800</td>\n",
       "      <td>4.3056</td>\n",
       "    </tr>\n",
       "    <tr>\n",
       "      <th>2</th>\n",
       "      <td>Bream</td>\n",
       "      <td>340.0</td>\n",
       "      <td>23.9</td>\n",
       "      <td>26.5</td>\n",
       "      <td>31.1</td>\n",
       "      <td>12.3778</td>\n",
       "      <td>4.6961</td>\n",
       "    </tr>\n",
       "    <tr>\n",
       "      <th>3</th>\n",
       "      <td>Bream</td>\n",
       "      <td>363.0</td>\n",
       "      <td>26.3</td>\n",
       "      <td>29.0</td>\n",
       "      <td>33.5</td>\n",
       "      <td>12.7300</td>\n",
       "      <td>4.4555</td>\n",
       "    </tr>\n",
       "    <tr>\n",
       "      <th>4</th>\n",
       "      <td>Bream</td>\n",
       "      <td>430.0</td>\n",
       "      <td>26.5</td>\n",
       "      <td>29.0</td>\n",
       "      <td>34.0</td>\n",
       "      <td>12.4440</td>\n",
       "      <td>5.1340</td>\n",
       "    </tr>\n",
       "  </tbody>\n",
       "</table>\n",
       "</div>"
      ],
      "text/plain": [
       "  Species  Weight  Length1  Length2  Length3   Height   Width\n",
       "0   Bream   242.0     23.2     25.4     30.0  11.5200  4.0200\n",
       "1   Bream   290.0     24.0     26.3     31.2  12.4800  4.3056\n",
       "2   Bream   340.0     23.9     26.5     31.1  12.3778  4.6961\n",
       "3   Bream   363.0     26.3     29.0     33.5  12.7300  4.4555\n",
       "4   Bream   430.0     26.5     29.0     34.0  12.4440  5.1340"
      ]
     },
     "execution_count": 8,
     "metadata": {},
     "output_type": "execute_result"
    }
   ],
   "source": [
    "peixes.head()"
   ]
  },
  {
   "cell_type": "code",
   "execution_count": 9,
   "metadata": {
    "id": "YMGZlP_V0qdy"
   },
   "outputs": [
    {
     "name": "stdout",
     "output_type": "stream",
     "text": [
      "<class 'pandas.core.frame.DataFrame'>\n",
      "RangeIndex: 159 entries, 0 to 158\n",
      "Data columns (total 7 columns):\n",
      " #   Column   Non-Null Count  Dtype  \n",
      "---  ------   --------------  -----  \n",
      " 0   Species  159 non-null    object \n",
      " 1   Weight   159 non-null    float64\n",
      " 2   Length1  159 non-null    float64\n",
      " 3   Length2  159 non-null    float64\n",
      " 4   Length3  159 non-null    float64\n",
      " 5   Height   159 non-null    float64\n",
      " 6   Width    159 non-null    float64\n",
      "dtypes: float64(6), object(1)\n",
      "memory usage: 8.8+ KB\n"
     ]
    }
   ],
   "source": [
    "peixes.info()"
   ]
  },
  {
   "cell_type": "code",
   "execution_count": 10,
   "metadata": {
    "id": "XVfR8MVS0reS"
   },
   "outputs": [
    {
     "data": {
      "text/plain": [
       "(159, 7)"
      ]
     },
     "execution_count": 10,
     "metadata": {},
     "output_type": "execute_result"
    }
   ],
   "source": [
    "peixes.shape"
   ]
  },
  {
   "cell_type": "markdown",
   "metadata": {
    "id": "Ko4_GViEzBMe"
   },
   "source": [
    "# 1. Tipos de Amostras"
   ]
  },
  {
   "cell_type": "markdown",
   "metadata": {
    "id": "fRUG_6NazJQK"
   },
   "source": [
    "## 1.1 Amostras Aleatórias Simples"
   ]
  },
  {
   "cell_type": "markdown",
   "metadata": {
    "id": "WFl_1muQ1fMD"
   },
   "source": [
    "Para fazer uma seleção de uma amostra aleatória simples a partir de um conjunto de dados existente podemos usar o `np.random.choice()`.\n",
    "\n",
    "Esse método precisa dos seguintes argumentos:\n",
    "\n",
    "\n",
    "\n",
    "*   `a`: Possíveis valores que serão criados aleatoriamente\n",
    "*   `size`: Quantidade de valores que iremos criar\n",
    "*   `replace`: Se iremos usar (`True`) a reposição ou não (`False`)\n",
    "*   `p`: Qual a proporção que teremos para cada valor selecionado (valores entre 0 e 1).\n",
    "\n"
   ]
  },
  {
   "cell_type": "code",
   "execution_count": null,
   "metadata": {
    "id": "WNIGR8-0zQy-"
   },
   "outputs": [],
   "source": []
  },
  {
   "cell_type": "code",
   "execution_count": null,
   "metadata": {
    "id": "iOj3PFrL1QSU"
   },
   "outputs": [],
   "source": []
  },
  {
   "cell_type": "code",
   "execution_count": null,
   "metadata": {
    "id": "-aj-0OLl2Nez"
   },
   "outputs": [],
   "source": []
  },
  {
   "cell_type": "markdown",
   "metadata": {
    "id": "LzoxE1CIJAVd"
   },
   "source": [
    "## 1.2 Amostras Estratificadas"
   ]
  },
  {
   "cell_type": "code",
   "execution_count": null,
   "metadata": {
    "id": "7PKrXk3MP38F"
   },
   "outputs": [],
   "source": []
  },
  {
   "cell_type": "code",
   "execution_count": null,
   "metadata": {
    "id": "mZw9s8vzQb2Q"
   },
   "outputs": [],
   "source": []
  },
  {
   "cell_type": "markdown",
   "metadata": {
    "id": "chMgpQTFRnQX"
   },
   "source": [
    "Podemos usar o comando `X, _, y, _ = train_test_split(*arrays, train_size=None, stratify=None)` irá realizar uma divisão dos nossos dados. Iremos usar ela em mais detalhes na disciplina de Inteligência Artificial. Entretanto, pode usá-la para fazer a amostragem estratificada. Os argumentos dessa função são:\n",
    "\n",
    "\n",
    "\n",
    "*   `*arrays`: Informamos os DataFrames com as colunas que iremos separar. Primeiro para X e depois para y.\n",
    "*   `train_size`: Percentual dos dados que iremos separar para X e y\n",
    "*   `stratify`: Informamos a coluna com os dados categóricos para estratificarmos.\n",
    "\n"
   ]
  },
  {
   "cell_type": "code",
   "execution_count": null,
   "metadata": {
    "id": "07mtF0voQJPw"
   },
   "outputs": [],
   "source": []
  },
  {
   "cell_type": "code",
   "execution_count": null,
   "metadata": {
    "id": "HldozWn4Re86"
   },
   "outputs": [],
   "source": []
  },
  {
   "cell_type": "code",
   "execution_count": null,
   "metadata": {
    "id": "VDa6uca6Tifh"
   },
   "outputs": [],
   "source": []
  },
  {
   "cell_type": "markdown",
   "metadata": {
    "id": "vksVHaiwVWGV"
   },
   "source": [
    "# 2. Medidas de Tendencia Central e Dispersão"
   ]
  },
  {
   "cell_type": "markdown",
   "metadata": {
    "id": "wcche8WyaLPJ"
   },
   "source": [
    "Vamos iniciar pelas medidas de tendencia central como a média e a mediana. Para esses dois casos usamos o `mean()` e o `median()` respectivamente."
   ]
  },
  {
   "cell_type": "code",
   "execution_count": 11,
   "metadata": {
    "id": "BdTrO_K3aT4E"
   },
   "outputs": [
    {
     "name": "stdout",
     "output_type": "stream",
     "text": [
      "Média:  398.33 \n",
      "Mediana: 273.0 \n",
      "Moda: 0    300.0\n",
      "Name: Weight, dtype: float64 \n"
     ]
    }
   ],
   "source": [
    "media_peso = peixes['Weight'].mean() #Média\n",
    "mediana_peso = peixes['Weight'].median() #mediana\n",
    "moda_peso = peixes['Weight'].mode() #Moda\n",
    "\n",
    "print(f\"Média: {media_peso: .2f} \")\n",
    "print(f\"Mediana: {mediana_peso} \")\n",
    "print(f\"Moda: {moda_peso} \")"
   ]
  },
  {
   "cell_type": "markdown",
   "metadata": {
    "id": "IQV4FvtHa8W1"
   },
   "source": [
    "Iremos agora ver as medidas de dispersão dos nossos dados. Para isso, iremos em primeiro lugar calcular manualmente a variancia e o desio padrão. Após isso, iremos usar funções do pandas para obter os valores diretamente.\n",
    "\n",
    "Primeiro iremos criar uma coluna com os valores individuais de cada linha para a primeira parte da equação da variancia:\n",
    "\n",
    "$(x_{i} - \\bar{x} )^2$"
   ]
  },
  {
   "cell_type": "code",
   "execution_count": 16,
   "metadata": {
    "id": "I1e4OzLiViQM"
   },
   "outputs": [],
   "source": [
    "media_peso = peixes['Weight'].mean()\n",
    "peixes['Weight_var'] = (peixes['Weight']- media_peso) **2;"
   ]
  },
  {
   "cell_type": "code",
   "execution_count": 17,
   "metadata": {
    "id": "YjbEMSlMbv4N"
   },
   "outputs": [
    {
     "data": {
      "text/html": [
       "<div>\n",
       "<style scoped>\n",
       "    .dataframe tbody tr th:only-of-type {\n",
       "        vertical-align: middle;\n",
       "    }\n",
       "\n",
       "    .dataframe tbody tr th {\n",
       "        vertical-align: top;\n",
       "    }\n",
       "\n",
       "    .dataframe thead th {\n",
       "        text-align: right;\n",
       "    }\n",
       "</style>\n",
       "<table border=\"1\" class=\"dataframe\">\n",
       "  <thead>\n",
       "    <tr style=\"text-align: right;\">\n",
       "      <th></th>\n",
       "      <th>Species</th>\n",
       "      <th>Weight</th>\n",
       "      <th>Length1</th>\n",
       "      <th>Length2</th>\n",
       "      <th>Length3</th>\n",
       "      <th>Height</th>\n",
       "      <th>Width</th>\n",
       "      <th>Weight_var</th>\n",
       "    </tr>\n",
       "  </thead>\n",
       "  <tbody>\n",
       "    <tr>\n",
       "      <th>0</th>\n",
       "      <td>Bream</td>\n",
       "      <td>242.0</td>\n",
       "      <td>23.2</td>\n",
       "      <td>25.4</td>\n",
       "      <td>30.0</td>\n",
       "      <td>11.5200</td>\n",
       "      <td>4.0200</td>\n",
       "      <td>24437.948056</td>\n",
       "    </tr>\n",
       "    <tr>\n",
       "      <th>1</th>\n",
       "      <td>Bream</td>\n",
       "      <td>290.0</td>\n",
       "      <td>24.0</td>\n",
       "      <td>26.3</td>\n",
       "      <td>31.2</td>\n",
       "      <td>12.4800</td>\n",
       "      <td>4.3056</td>\n",
       "      <td>11734.612207</td>\n",
       "    </tr>\n",
       "    <tr>\n",
       "      <th>2</th>\n",
       "      <td>Bream</td>\n",
       "      <td>340.0</td>\n",
       "      <td>23.9</td>\n",
       "      <td>26.5</td>\n",
       "      <td>31.1</td>\n",
       "      <td>12.3778</td>\n",
       "      <td>4.6961</td>\n",
       "      <td>3401.970698</td>\n",
       "    </tr>\n",
       "    <tr>\n",
       "      <th>3</th>\n",
       "      <td>Bream</td>\n",
       "      <td>363.0</td>\n",
       "      <td>26.3</td>\n",
       "      <td>29.0</td>\n",
       "      <td>33.5</td>\n",
       "      <td>12.7300</td>\n",
       "      <td>4.4555</td>\n",
       "      <td>1247.955603</td>\n",
       "    </tr>\n",
       "    <tr>\n",
       "      <th>4</th>\n",
       "      <td>Bream</td>\n",
       "      <td>430.0</td>\n",
       "      <td>26.5</td>\n",
       "      <td>29.0</td>\n",
       "      <td>34.0</td>\n",
       "      <td>12.4440</td>\n",
       "      <td>5.1340</td>\n",
       "      <td>1003.215981</td>\n",
       "    </tr>\n",
       "  </tbody>\n",
       "</table>\n",
       "</div>"
      ],
      "text/plain": [
       "  Species  Weight  Length1  Length2  Length3   Height   Width    Weight_var\n",
       "0   Bream   242.0     23.2     25.4     30.0  11.5200  4.0200  24437.948056\n",
       "1   Bream   290.0     24.0     26.3     31.2  12.4800  4.3056  11734.612207\n",
       "2   Bream   340.0     23.9     26.5     31.1  12.3778  4.6961   3401.970698\n",
       "3   Bream   363.0     26.3     29.0     33.5  12.7300  4.4555   1247.955603\n",
       "4   Bream   430.0     26.5     29.0     34.0  12.4440  5.1340   1003.215981"
      ]
     },
     "execution_count": 17,
     "metadata": {},
     "output_type": "execute_result"
    }
   ],
   "source": [
    "peixes.head()"
   ]
  },
  {
   "cell_type": "markdown",
   "metadata": {
    "id": "qae1mo0NbzRo"
   },
   "source": [
    "Agora iremos fazer o somatório de todas as linhas e dividir por n-1, isto é, iremos calcular a variancia conforme:\n",
    "\n",
    "$\\frac{1}{n-1}\\sum_{i=1}^{n}(x_i-\\bar{x})^2$"
   ]
  },
  {
   "cell_type": "code",
   "execution_count": 18,
   "metadata": {
    "id": "reyQeVemW5rn"
   },
   "outputs": [
    {
     "name": "stdout",
     "output_type": "stream",
     "text": [
      "A variância da coluna Weight é de: 128148.47512061142\n"
     ]
    }
   ],
   "source": [
    "soma = peixes['Weight_var'].sum()\n",
    "n = peixes.shape[0]-1\n",
    "var = soma / n\n",
    "\n",
    "print(f\"A variância da coluna Weight é de: {var}\")"
   ]
  },
  {
   "cell_type": "markdown",
   "metadata": {
    "id": "PqAsi_iZcWFi"
   },
   "source": [
    "Para o desvio padrão podemos apenas tirar a raiz quadrada:"
   ]
  },
  {
   "cell_type": "code",
   "execution_count": 19,
   "metadata": {
    "id": "tZU3mWCzXZde"
   },
   "outputs": [
    {
     "name": "stdout",
     "output_type": "stream",
     "text": [
      "O desvio padrão da Coluna Weight é de : 357.9783165508931\n"
     ]
    }
   ],
   "source": [
    "desvpad = var**(0.5)\n",
    "print(f\"O desvio padrão da Coluna Weight é de : {desvpad}\")"
   ]
  },
  {
   "cell_type": "code",
   "execution_count": null,
   "metadata": {
    "id": "Hu0ajUPQi055"
   },
   "outputs": [],
   "source": []
  },
  {
   "cell_type": "markdown",
   "metadata": {
    "id": "RJlfD-_bcbwc"
   },
   "source": [
    "Vamos agora conferir se o procedimento executado foi correto usando o método `std()`:"
   ]
  },
  {
   "cell_type": "code",
   "execution_count": 21,
   "metadata": {
    "id": "mx0vosHnXd5X"
   },
   "outputs": [
    {
     "name": "stdout",
     "output_type": "stream",
     "text": [
      "O desvio padrão é 357.9783165508931, o menor peso é : 0.0, o maior peso é: 1650.0 e a amplitude é : 1650.0\n"
     ]
    }
   ],
   "source": [
    "desvpad = peixes['Weight'].std()\n",
    "min_peso = peixes['Weight'].min();\n",
    "max_peso = peixes['Weight'].max();\n",
    "amplitude = max_peso - min_peso\n",
    "print(f\"O desvio padrão é {desvpad}, o menor peso é : {min_peso}, o maior peso é: {max_peso} e a amplitude é : {amplitude}\")"
   ]
  },
  {
   "cell_type": "markdown",
   "metadata": {
    "id": "65iezvHnciNf"
   },
   "source": [
    "Podemos notar que ambos os resultados ficaram corretos! Quando houver a necessidade de obter o valr do desvio padrão, use o comando `std()`."
   ]
  },
  {
   "cell_type": "code",
   "execution_count": null,
   "metadata": {
    "id": "TT11I3sqdhpK"
   },
   "outputs": [],
   "source": []
  },
  {
   "cell_type": "markdown",
   "metadata": {
    "id": "sx4VyR-BfTpN"
   },
   "source": [
    "Com relação aos quartis, podemos usar o numpy para obter essa informação:"
   ]
  },
  {
   "cell_type": "code",
   "execution_count": 22,
   "metadata": {
    "id": "aNZto0r2faLt"
   },
   "outputs": [
    {
     "data": {
      "text/plain": [
       "np.float64(273.0)"
      ]
     },
     "execution_count": 22,
     "metadata": {},
     "output_type": "execute_result"
    }
   ],
   "source": [
    "quartis = np.quantile(peixes['Weight'], [0.25,0.5,0.75])\n",
    "\n",
    "quartis[0]\n",
    "\n",
    "quartis[1]"
   ]
  },
  {
   "cell_type": "markdown",
   "metadata": {
    "id": "pkO0-BwHisnH"
   },
   "source": [
    "Uma forma simples de obter todas as medidas anteriores num único resumo e para todas as colunas é usar o método `describe()`"
   ]
  },
  {
   "cell_type": "code",
   "execution_count": null,
   "metadata": {
    "id": "iaBk0lSAYA41"
   },
   "outputs": [],
   "source": []
  },
  {
   "cell_type": "markdown",
   "metadata": {},
   "source": [
    "Calculo de IMC"
   ]
  },
  {
   "cell_type": "code",
   "execution_count": 12,
   "metadata": {},
   "outputs": [
    {
     "name": "stdout",
     "output_type": "stream",
     "text": [
      "IMC é igual: 26.234567901234566\n"
     ]
    }
   ],
   "source": [
    "peso = 85\n",
    "altura = 1.80\n",
    "imc = peso / altura **2\n",
    "print(f\"IMC é igual: {imc}\")"
   ]
  }
 ],
 "metadata": {
  "colab": {
   "authorship_tag": "ABX9TyMk6AnbyHTCoUBFYawsRBwE",
   "provenance": []
  },
  "kernelspec": {
   "display_name": "Python 3",
   "name": "python3"
  },
  "language_info": {
   "codemirror_mode": {
    "name": "ipython",
    "version": 3
   },
   "file_extension": ".py",
   "mimetype": "text/x-python",
   "name": "python",
   "nbconvert_exporter": "python",
   "pygments_lexer": "ipython3",
   "version": "3.13.3"
  }
 },
 "nbformat": 4,
 "nbformat_minor": 0
}
