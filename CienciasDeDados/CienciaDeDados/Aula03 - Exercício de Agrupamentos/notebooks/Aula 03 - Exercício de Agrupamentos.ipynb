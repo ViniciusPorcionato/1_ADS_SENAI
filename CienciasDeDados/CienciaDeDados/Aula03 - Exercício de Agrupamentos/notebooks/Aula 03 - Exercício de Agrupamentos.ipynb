{
 "cells": [
  {
   "cell_type": "markdown",
   "metadata": {
    "id": "m2_bp-02ig6F"
   },
   "source": [
    "Carregar o dataset: Dataset_de_Transporte.csv"
   ]
  },
  {
   "cell_type": "code",
   "execution_count": 16,
   "metadata": {
    "executionInfo": {
     "elapsed": 41,
     "status": "ok",
     "timestamp": 1744670946281,
     "user": {
      "displayName": "Miguel Silva Souza",
      "userId": "07429946332743090203"
     },
     "user_tz": 180
    },
    "id": "w9Oe0FoKilnM"
   },
   "outputs": [],
   "source": [
    "import pandas as pd\n",
    "dados = pd.read_csv(\"../data/DataSetSala.csv\", sep = \",\")"
   ]
  },
  {
   "cell_type": "code",
   "execution_count": 4,
   "metadata": {
    "colab": {
     "base_uri": "https://localhost:8080/",
     "height": 424
    },
    "executionInfo": {
     "elapsed": 110,
     "status": "ok",
     "timestamp": 1742255967662,
     "user": {
      "displayName": "Miguel Silva Souza",
      "userId": "07429946332743090203"
     },
     "user_tz": 180
    },
    "id": "Ie6MJhGojDA9",
    "outputId": "6585a07d-9b20-4085-dd84-47592228626e"
   },
   "outputs": [
    {
     "data": {
      "text/html": [
       "<div>\n",
       "<style scoped>\n",
       "    .dataframe tbody tr th:only-of-type {\n",
       "        vertical-align: middle;\n",
       "    }\n",
       "\n",
       "    .dataframe tbody tr th {\n",
       "        vertical-align: top;\n",
       "    }\n",
       "\n",
       "    .dataframe thead th {\n",
       "        text-align: right;\n",
       "    }\n",
       "</style>\n",
       "<table border=\"1\" class=\"dataframe\">\n",
       "  <thead>\n",
       "    <tr style=\"text-align: right;\">\n",
       "      <th></th>\n",
       "      <th>Carimbo de data/hora</th>\n",
       "      <th>Cidade</th>\n",
       "      <th>Meio de Transporte</th>\n",
       "      <th>Idade</th>\n",
       "    </tr>\n",
       "  </thead>\n",
       "  <tbody>\n",
       "    <tr>\n",
       "      <th>0</th>\n",
       "      <td>2025/03/27 10:19:29 PM GMT-3</td>\n",
       "      <td>São Paulo</td>\n",
       "      <td>Ônibus</td>\n",
       "      <td>23</td>\n",
       "    </tr>\n",
       "    <tr>\n",
       "      <th>1</th>\n",
       "      <td>2025/03/27 10:19:39 PM GMT-3</td>\n",
       "      <td>Santo André</td>\n",
       "      <td>Moto</td>\n",
       "      <td>46</td>\n",
       "    </tr>\n",
       "    <tr>\n",
       "      <th>2</th>\n",
       "      <td>2025/03/27 10:19:40 PM GMT-3</td>\n",
       "      <td>Santo André</td>\n",
       "      <td>Combinado (mais de um)</td>\n",
       "      <td>18</td>\n",
       "    </tr>\n",
       "    <tr>\n",
       "      <th>3</th>\n",
       "      <td>2025/03/27 10:19:43 PM GMT-3</td>\n",
       "      <td>São Caetano do Sul</td>\n",
       "      <td>Carro</td>\n",
       "      <td>18</td>\n",
       "    </tr>\n",
       "    <tr>\n",
       "      <th>4</th>\n",
       "      <td>2025/03/27 10:19:47 PM GMT-3</td>\n",
       "      <td>Santo André</td>\n",
       "      <td>Carro</td>\n",
       "      <td>44</td>\n",
       "    </tr>\n",
       "    <tr>\n",
       "      <th>5</th>\n",
       "      <td>2025/03/27 10:19:54 PM GMT-3</td>\n",
       "      <td>Santo André</td>\n",
       "      <td>Carro</td>\n",
       "      <td>18</td>\n",
       "    </tr>\n",
       "    <tr>\n",
       "      <th>6</th>\n",
       "      <td>2025/03/27 10:20:02 PM GMT-3</td>\n",
       "      <td>Santo André</td>\n",
       "      <td>Carro</td>\n",
       "      <td>17</td>\n",
       "    </tr>\n",
       "    <tr>\n",
       "      <th>7</th>\n",
       "      <td>2025/03/27 10:20:07 PM GMT-3</td>\n",
       "      <td>São Paulo</td>\n",
       "      <td>Carro</td>\n",
       "      <td>24</td>\n",
       "    </tr>\n",
       "    <tr>\n",
       "      <th>8</th>\n",
       "      <td>2025/03/27 10:20:11 PM GMT-3</td>\n",
       "      <td>Santo André</td>\n",
       "      <td>Carro</td>\n",
       "      <td>18</td>\n",
       "    </tr>\n",
       "    <tr>\n",
       "      <th>9</th>\n",
       "      <td>2025/03/27 10:20:15 PM GMT-3</td>\n",
       "      <td>Santo André</td>\n",
       "      <td>Combinado (mais de um)</td>\n",
       "      <td>22</td>\n",
       "    </tr>\n",
       "    <tr>\n",
       "      <th>10</th>\n",
       "      <td>2025/03/27 10:20:18 PM GMT-3</td>\n",
       "      <td>São Bernardo do Campo</td>\n",
       "      <td>Carro</td>\n",
       "      <td>20</td>\n",
       "    </tr>\n",
       "    <tr>\n",
       "      <th>11</th>\n",
       "      <td>2025/03/27 10:20:19 PM GMT-3</td>\n",
       "      <td>São Bernardo do Campo</td>\n",
       "      <td>Carro</td>\n",
       "      <td>18</td>\n",
       "    </tr>\n",
       "    <tr>\n",
       "      <th>12</th>\n",
       "      <td>2025/03/27 10:20:25 PM GMT-3</td>\n",
       "      <td>São Caetano do Sul</td>\n",
       "      <td>A pé</td>\n",
       "      <td>18</td>\n",
       "    </tr>\n",
       "    <tr>\n",
       "      <th>13</th>\n",
       "      <td>2025/03/27 10:20:35 PM GMT-3</td>\n",
       "      <td>Santo André</td>\n",
       "      <td>Carro</td>\n",
       "      <td>17</td>\n",
       "    </tr>\n",
       "    <tr>\n",
       "      <th>14</th>\n",
       "      <td>2025/03/27 10:20:59 PM GMT-3</td>\n",
       "      <td>São Caetano do Sul</td>\n",
       "      <td>Ônibus</td>\n",
       "      <td>18</td>\n",
       "    </tr>\n",
       "    <tr>\n",
       "      <th>15</th>\n",
       "      <td>2025/03/27 10:21:16 PM GMT-3</td>\n",
       "      <td>São Paulo</td>\n",
       "      <td>Carro</td>\n",
       "      <td>17</td>\n",
       "    </tr>\n",
       "    <tr>\n",
       "      <th>16</th>\n",
       "      <td>2025/03/27 10:21:26 PM GMT-3</td>\n",
       "      <td>São Paulo</td>\n",
       "      <td>Carro</td>\n",
       "      <td>17</td>\n",
       "    </tr>\n",
       "    <tr>\n",
       "      <th>17</th>\n",
       "      <td>2025/03/27 10:21:42 PM GMT-3</td>\n",
       "      <td>São Paulo</td>\n",
       "      <td>Ônibus</td>\n",
       "      <td>28</td>\n",
       "    </tr>\n",
       "    <tr>\n",
       "      <th>18</th>\n",
       "      <td>2025/03/27 10:22:09 PM GMT-3</td>\n",
       "      <td>São Paulo</td>\n",
       "      <td>Ônibus</td>\n",
       "      <td>19</td>\n",
       "    </tr>\n",
       "    <tr>\n",
       "      <th>19</th>\n",
       "      <td>2025/03/27 10:22:44 PM GMT-3</td>\n",
       "      <td>São Bernardo do Campo</td>\n",
       "      <td>Ônibus</td>\n",
       "      <td>19</td>\n",
       "    </tr>\n",
       "    <tr>\n",
       "      <th>20</th>\n",
       "      <td>2025/03/27 10:22:57 PM GMT-3</td>\n",
       "      <td>Rio Grande da Serra</td>\n",
       "      <td>Ônibus</td>\n",
       "      <td>28</td>\n",
       "    </tr>\n",
       "  </tbody>\n",
       "</table>\n",
       "</div>"
      ],
      "text/plain": [
       "            Carimbo de data/hora                 Cidade  \\\n",
       "0   2025/03/27 10:19:29 PM GMT-3              São Paulo   \n",
       "1   2025/03/27 10:19:39 PM GMT-3            Santo André   \n",
       "2   2025/03/27 10:19:40 PM GMT-3            Santo André   \n",
       "3   2025/03/27 10:19:43 PM GMT-3     São Caetano do Sul   \n",
       "4   2025/03/27 10:19:47 PM GMT-3            Santo André   \n",
       "5   2025/03/27 10:19:54 PM GMT-3            Santo André   \n",
       "6   2025/03/27 10:20:02 PM GMT-3            Santo André   \n",
       "7   2025/03/27 10:20:07 PM GMT-3              São Paulo   \n",
       "8   2025/03/27 10:20:11 PM GMT-3            Santo André   \n",
       "9   2025/03/27 10:20:15 PM GMT-3            Santo André   \n",
       "10  2025/03/27 10:20:18 PM GMT-3  São Bernardo do Campo   \n",
       "11  2025/03/27 10:20:19 PM GMT-3  São Bernardo do Campo   \n",
       "12  2025/03/27 10:20:25 PM GMT-3     São Caetano do Sul   \n",
       "13  2025/03/27 10:20:35 PM GMT-3            Santo André   \n",
       "14  2025/03/27 10:20:59 PM GMT-3     São Caetano do Sul   \n",
       "15  2025/03/27 10:21:16 PM GMT-3              São Paulo   \n",
       "16  2025/03/27 10:21:26 PM GMT-3              São Paulo   \n",
       "17  2025/03/27 10:21:42 PM GMT-3              São Paulo   \n",
       "18  2025/03/27 10:22:09 PM GMT-3              São Paulo   \n",
       "19  2025/03/27 10:22:44 PM GMT-3  São Bernardo do Campo   \n",
       "20  2025/03/27 10:22:57 PM GMT-3    Rio Grande da Serra   \n",
       "\n",
       "        Meio de Transporte  Idade  \n",
       "0                   Ônibus     23  \n",
       "1                     Moto     46  \n",
       "2   Combinado (mais de um)     18  \n",
       "3                    Carro     18  \n",
       "4                    Carro     44  \n",
       "5                    Carro     18  \n",
       "6                    Carro     17  \n",
       "7                    Carro     24  \n",
       "8                    Carro     18  \n",
       "9   Combinado (mais de um)     22  \n",
       "10                   Carro     20  \n",
       "11                   Carro     18  \n",
       "12                    A pé     18  \n",
       "13                   Carro     17  \n",
       "14                  Ônibus     18  \n",
       "15                   Carro     17  \n",
       "16                   Carro     17  \n",
       "17                  Ônibus     28  \n",
       "18                  Ônibus     19  \n",
       "19                  Ônibus     19  \n",
       "20                  Ônibus     28  "
      ]
     },
     "execution_count": 4,
     "metadata": {},
     "output_type": "execute_result"
    }
   ],
   "source": [
    "dados"
   ]
  },
  {
   "cell_type": "markdown",
   "metadata": {
    "id": "oVxx6jmfQBv_"
   },
   "source": [
    "Qual a média de idade das pessoas em cada cidade?"
   ]
  },
  {
   "cell_type": "code",
   "execution_count": 5,
   "metadata": {
    "colab": {
     "base_uri": "https://localhost:8080/",
     "height": 272
    },
    "executionInfo": {
     "elapsed": 34,
     "status": "ok",
     "timestamp": 1744670949626,
     "user": {
      "displayName": "Miguel Silva Souza",
      "userId": "07429946332743090203"
     },
     "user_tz": 180
    },
    "id": "ZccAywmXRoP3",
    "outputId": "678c32da-2863-48d9-f496-1e58d2a078ec"
   },
   "outputs": [
    {
     "data": {
      "text/plain": [
       "Cidade\n",
       "Rio Grande da Serra      28.000000\n",
       "Santo André              25.000000\n",
       "São Bernardo do Campo    19.000000\n",
       "São Caetano do Sul       18.000000\n",
       "São Paulo                21.333333\n",
       "Name: Idade, dtype: float64"
      ]
     },
     "execution_count": 5,
     "metadata": {},
     "output_type": "execute_result"
    }
   ],
   "source": [
    "mediaIdadeCidade = dados.groupby(\"Cidade\")[\"Idade\"].mean()\n",
    "mediaIdadeCidade"
   ]
  },
  {
   "cell_type": "markdown",
   "metadata": {
    "id": "99XKdSykQFrm"
   },
   "source": [
    "Qual o meio de transporte mais utilizado em cada cidade?"
   ]
  },
  {
   "cell_type": "code",
   "execution_count": 6,
   "metadata": {
    "colab": {
     "base_uri": "https://localhost:8080/",
     "height": 272
    },
    "executionInfo": {
     "elapsed": 22,
     "status": "ok",
     "timestamp": 1742256849720,
     "user": {
      "displayName": "Miguel Silva Souza",
      "userId": "07429946332743090203"
     },
     "user_tz": 180
    },
    "id": "tp66O9bkQISm",
    "outputId": "a82cc422-4bed-4fbb-b9f4-76a3f172c892"
   },
   "outputs": [
    {
     "data": {
      "text/plain": [
       "Cidade\n",
       "Rio Grande da Serra      Ônibus\n",
       "Santo André               Carro\n",
       "São Bernardo do Campo     Carro\n",
       "São Caetano do Sul        Carro\n",
       "São Paulo                Ônibus\n",
       "Name: Meio de Transporte, dtype: object"
      ]
     },
     "execution_count": 6,
     "metadata": {},
     "output_type": "execute_result"
    }
   ],
   "source": [
    "transportMaisUtilizado = dados.groupby('Cidade')['Meio de Transporte'].agg(lambda x: x.value_counts().index[0])\n",
    "transportMaisUtilizado"
   ]
  },
  {
   "cell_type": "markdown",
   "metadata": {
    "id": "ylb69mo_QIkO"
   },
   "source": [
    "Existe alguma correlação entre idade e meio de transporte utilizado?"
   ]
  },
  {
   "cell_type": "code",
   "execution_count": 7,
   "metadata": {
    "colab": {
     "base_uri": "https://localhost:8080/",
     "height": 272
    },
    "executionInfo": {
     "elapsed": 7,
     "status": "ok",
     "timestamp": 1744670958062,
     "user": {
      "displayName": "Miguel Silva Souza",
      "userId": "07429946332743090203"
     },
     "user_tz": 180
    },
    "id": "K2SW8zpnQKHW",
    "outputId": "558a110e-ed2f-42f3-85fa-4b17e39dbd5a"
   },
   "outputs": [
    {
     "data": {
      "text/plain": [
       "Meio de Transporte\n",
       "A pé                      18.000000\n",
       "Carro                     20.727273\n",
       "Combinado (mais de um)    20.000000\n",
       "Moto                      46.000000\n",
       "Ônibus                    22.500000\n",
       "Name: Idade, dtype: float64"
      ]
     },
     "execution_count": 7,
     "metadata": {},
     "output_type": "execute_result"
    }
   ],
   "source": [
    "correlacaoTransporteIdade = dados.groupby('Meio de Transporte')['Idade'].mean()\n",
    "correlacaoTransporteIdade"
   ]
  },
  {
   "cell_type": "markdown",
   "metadata": {
    "id": "wtso8GpXQKZ-"
   },
   "source": [
    "Qual a distribuição etária das pessoas em cada meio de transporte?"
   ]
  },
  {
   "cell_type": "code",
   "execution_count": 8,
   "metadata": {
    "colab": {
     "base_uri": "https://localhost:8080/",
     "height": 238
    },
    "executionInfo": {
     "elapsed": 132,
     "status": "ok",
     "timestamp": 1744670959833,
     "user": {
      "displayName": "Miguel Silva Souza",
      "userId": "07429946332743090203"
     },
     "user_tz": 180
    },
    "id": "xT43_YoRQL8W",
    "outputId": "94537142-f982-41af-b065-f3c2c1222d82"
   },
   "outputs": [
    {
     "data": {
      "text/html": [
       "<div>\n",
       "<style scoped>\n",
       "    .dataframe tbody tr th:only-of-type {\n",
       "        vertical-align: middle;\n",
       "    }\n",
       "\n",
       "    .dataframe tbody tr th {\n",
       "        vertical-align: top;\n",
       "    }\n",
       "\n",
       "    .dataframe thead th {\n",
       "        text-align: right;\n",
       "    }\n",
       "</style>\n",
       "<table border=\"1\" class=\"dataframe\">\n",
       "  <thead>\n",
       "    <tr style=\"text-align: right;\">\n",
       "      <th></th>\n",
       "      <th>count</th>\n",
       "      <th>mean</th>\n",
       "      <th>std</th>\n",
       "      <th>min</th>\n",
       "      <th>25%</th>\n",
       "      <th>50%</th>\n",
       "      <th>75%</th>\n",
       "      <th>max</th>\n",
       "    </tr>\n",
       "    <tr>\n",
       "      <th>Meio de Transporte</th>\n",
       "      <th></th>\n",
       "      <th></th>\n",
       "      <th></th>\n",
       "      <th></th>\n",
       "      <th></th>\n",
       "      <th></th>\n",
       "      <th></th>\n",
       "      <th></th>\n",
       "    </tr>\n",
       "  </thead>\n",
       "  <tbody>\n",
       "    <tr>\n",
       "      <th>A pé</th>\n",
       "      <td>1.0</td>\n",
       "      <td>18.000000</td>\n",
       "      <td>NaN</td>\n",
       "      <td>18.0</td>\n",
       "      <td>18.0</td>\n",
       "      <td>18.0</td>\n",
       "      <td>18.00</td>\n",
       "      <td>18.0</td>\n",
       "    </tr>\n",
       "    <tr>\n",
       "      <th>Carro</th>\n",
       "      <td>11.0</td>\n",
       "      <td>20.727273</td>\n",
       "      <td>7.988628</td>\n",
       "      <td>17.0</td>\n",
       "      <td>17.0</td>\n",
       "      <td>18.0</td>\n",
       "      <td>19.00</td>\n",
       "      <td>44.0</td>\n",
       "    </tr>\n",
       "    <tr>\n",
       "      <th>Combinado (mais de um)</th>\n",
       "      <td>2.0</td>\n",
       "      <td>20.000000</td>\n",
       "      <td>2.828427</td>\n",
       "      <td>18.0</td>\n",
       "      <td>19.0</td>\n",
       "      <td>20.0</td>\n",
       "      <td>21.00</td>\n",
       "      <td>22.0</td>\n",
       "    </tr>\n",
       "    <tr>\n",
       "      <th>Moto</th>\n",
       "      <td>1.0</td>\n",
       "      <td>46.000000</td>\n",
       "      <td>NaN</td>\n",
       "      <td>46.0</td>\n",
       "      <td>46.0</td>\n",
       "      <td>46.0</td>\n",
       "      <td>46.00</td>\n",
       "      <td>46.0</td>\n",
       "    </tr>\n",
       "    <tr>\n",
       "      <th>Ônibus</th>\n",
       "      <td>6.0</td>\n",
       "      <td>22.500000</td>\n",
       "      <td>4.593474</td>\n",
       "      <td>18.0</td>\n",
       "      <td>19.0</td>\n",
       "      <td>21.0</td>\n",
       "      <td>26.75</td>\n",
       "      <td>28.0</td>\n",
       "    </tr>\n",
       "  </tbody>\n",
       "</table>\n",
       "</div>"
      ],
      "text/plain": [
       "                        count       mean       std   min   25%   50%    75%  \\\n",
       "Meio de Transporte                                                            \n",
       "A pé                      1.0  18.000000       NaN  18.0  18.0  18.0  18.00   \n",
       "Carro                    11.0  20.727273  7.988628  17.0  17.0  18.0  19.00   \n",
       "Combinado (mais de um)    2.0  20.000000  2.828427  18.0  19.0  20.0  21.00   \n",
       "Moto                      1.0  46.000000       NaN  46.0  46.0  46.0  46.00   \n",
       "Ônibus                    6.0  22.500000  4.593474  18.0  19.0  21.0  26.75   \n",
       "\n",
       "                         max  \n",
       "Meio de Transporte            \n",
       "A pé                    18.0  \n",
       "Carro                   44.0  \n",
       "Combinado (mais de um)  22.0  \n",
       "Moto                    46.0  \n",
       "Ônibus                  28.0  "
      ]
     },
     "execution_count": 8,
     "metadata": {},
     "output_type": "execute_result"
    }
   ],
   "source": [
    "distribuicaoTransporte = dados.groupby('Meio de Transporte')['Idade'].describe()\n",
    "distribuicaoTransporte"
   ]
  },
  {
   "cell_type": "markdown",
   "metadata": {
    "id": "yEprSRvOQPrm"
   },
   "source": [
    "Qual cidade apresenta a maior diversidade de meios de transporte utilizados?Gráficos:"
   ]
  },
  {
   "cell_type": "code",
   "execution_count": 9,
   "metadata": {
    "colab": {
     "base_uri": "https://localhost:8080/",
     "height": 272
    },
    "executionInfo": {
     "elapsed": 8,
     "status": "ok",
     "timestamp": 1744670961696,
     "user": {
      "displayName": "Miguel Silva Souza",
      "userId": "07429946332743090203"
     },
     "user_tz": 180
    },
    "id": "GL6O0IIpQWKe",
    "outputId": "91aaca70-ac23-460d-dcaf-f0b892d82c5e"
   },
   "outputs": [
    {
     "data": {
      "text/plain": [
       "Cidade\n",
       "Rio Grande da Serra      1\n",
       "Santo André              3\n",
       "São Bernardo do Campo    2\n",
       "São Caetano do Sul       3\n",
       "São Paulo                2\n",
       "Name: Meio de Transporte, dtype: int64"
      ]
     },
     "execution_count": 9,
     "metadata": {},
     "output_type": "execute_result"
    }
   ],
   "source": [
    "diversidadeTransporteCidade = dados.groupby('Cidade')['Meio de Transporte'].nunique()\n",
    "diversidadeTransporteCidade"
   ]
  },
  {
   "cell_type": "code",
   "execution_count": 10,
   "metadata": {
    "colab": {
     "base_uri": "https://localhost:8080/"
    },
    "executionInfo": {
     "elapsed": 12,
     "status": "ok",
     "timestamp": 1744670962489,
     "user": {
      "displayName": "Miguel Silva Souza",
      "userId": "07429946332743090203"
     },
     "user_tz": 180
    },
    "id": "cSu6Mcs6qMTE",
    "outputId": "8e7f7fe3-5f9d-4475-fb39-ad232ad99ec3"
   },
   "outputs": [
    {
     "data": {
      "text/plain": [
       "array(['Ônibus', 'Moto', 'Combinado (mais de um)', 'Carro', 'A pé'],\n",
       "      dtype=object)"
      ]
     },
     "execution_count": 10,
     "metadata": {},
     "output_type": "execute_result"
    }
   ],
   "source": [
    "dados[\"Meio de Transporte\"].unique()"
   ]
  },
  {
   "cell_type": "markdown",
   "metadata": {
    "id": "lN0ncrLAqvM0"
   },
   "source": [
    "GRÁFICOS"
   ]
  },
  {
   "cell_type": "markdown",
   "metadata": {
    "id": "mKCwzh3uQZhm"
   },
   "source": [
    "Qual a distribuição etária das pessoas que usam cada meio de transporte?"
   ]
  },
  {
   "cell_type": "code",
   "execution_count": 11,
   "metadata": {
    "executionInfo": {
     "elapsed": 6,
     "status": "ok",
     "timestamp": 1744670983569,
     "user": {
      "displayName": "Miguel Silva Souza",
      "userId": "07429946332743090203"
     },
     "user_tz": 180
    },
    "id": "AoIWp7Kafl3p"
   },
   "outputs": [],
   "source": [
    "import matplotlib.pyplot as plt"
   ]
  },
  {
   "cell_type": "code",
   "execution_count": 15,
   "metadata": {
    "colab": {
     "base_uri": "https://localhost:8080/",
     "height": 106
    },
    "executionInfo": {
     "elapsed": 21,
     "status": "error",
     "timestamp": 1744670984617,
     "user": {
      "displayName": "Miguel Silva Souza",
      "userId": "07429946332743090203"
     },
     "user_tz": 180
    },
    "id": "XmB0flfYQafm",
    "outputId": "3ff823f7-7f1f-4a82-c3a6-1fce24d4e9a4"
   },
   "outputs": [
    {
     "ename": "TypeError",
     "evalue": "string indices must be integers, not 'str'",
     "output_type": "error",
     "traceback": [
      "\u001b[31m---------------------------------------------------------------------------\u001b[39m",
      "\u001b[31mTypeError\u001b[39m                                 Traceback (most recent call last)",
      "\u001b[36mCell\u001b[39m\u001b[36m \u001b[39m\u001b[32mIn[15]\u001b[39m\u001b[32m, line 4\u001b[39m\n\u001b[32m      1\u001b[39m \u001b[38;5;28;01mimport\u001b[39;00m\u001b[38;5;250m \u001b[39m\u001b[34;01mmatplotlib\u001b[39;00m\u001b[34;01m.\u001b[39;00m\u001b[34;01mpyplot\u001b[39;00m\u001b[38;5;250m \u001b[39m\u001b[38;5;28;01mas\u001b[39;00m\u001b[38;5;250m \u001b[39m\u001b[34;01mplt\u001b[39;00m\n\u001b[32m      3\u001b[39m plt.figure(figsize=(\u001b[32m10\u001b[39m, \u001b[32m5\u001b[39m))\n\u001b[32m----> \u001b[39m\u001b[32m4\u001b[39m \u001b[38;5;28;01mfor\u001b[39;00m transporte \u001b[38;5;129;01min\u001b[39;00m \u001b[43mdados\u001b[49m\u001b[43m[\u001b[49m\u001b[33;43m'\u001b[39;49m\u001b[33;43mMeio de Transporte\u001b[39;49m\u001b[33;43m'\u001b[39;49m\u001b[43m]\u001b[49m.unique(): \n\u001b[32m      5\u001b[39m     plt.hist(dados[dados[\u001b[33m'\u001b[39m\u001b[33mMeio de Transporte\u001b[39m\u001b[33m'\u001b[39m] == transporte][\u001b[33m'\u001b[39m\u001b[33mIdade\u001b[39m\u001b[33m'\u001b[39m], \n\u001b[32m      6\u001b[39m              alpha=\u001b[32m0.6\u001b[39m, \n\u001b[32m      7\u001b[39m              bins=\u001b[32m10\u001b[39m,\n\u001b[32m      8\u001b[39m              label=transporte)  \n\u001b[32m      9\u001b[39m plt.xlabel(\u001b[33m'\u001b[39m\u001b[33mIdade\u001b[39m\u001b[33m'\u001b[39m)\n",
      "\u001b[31mTypeError\u001b[39m: string indices must be integers, not 'str'"
     ]
    },
    {
     "data": {
      "text/plain": [
       "<Figure size 1000x500 with 0 Axes>"
      ]
     },
     "metadata": {},
     "output_type": "display_data"
    }
   ],
   "source": [
    "import matplotlib.pyplot as plt\n",
    "\n",
    "plt.figure(figsize=(10, 5))\n",
    "for transporte in dados['Meio de Transporte'].unique(): \n",
    "    plt.hist(dados[dados['Meio de Transporte'] == transporte]['Idade'], \n",
    "             alpha=0.6, \n",
    "             bins=10,\n",
    "             label=transporte)  \n",
    "plt.xlabel('Idade')\n",
    "plt.ylabel('Número de Pessoas') \n",
    "plt.title('Distribuição Etária por Meio de Transporte')\n",
    "plt.legend()\n",
    "plt.show()  "
   ]
  },
  {
   "cell_type": "markdown",
   "metadata": {
    "id": "yh46DrfIQayu"
   },
   "source": [
    " Como varia a média de idade entre as cidades?"
   ]
  },
  {
   "cell_type": "code",
   "execution_count": 17,
   "metadata": {
    "colab": {
     "base_uri": "https://localhost:8080/",
     "height": 556
    },
    "executionInfo": {
     "elapsed": 486,
     "status": "ok",
     "timestamp": 1744670991331,
     "user": {
      "displayName": "Miguel Silva Souza",
      "userId": "07429946332743090203"
     },
     "user_tz": 180
    },
    "id": "XPrg0bQmQcw2",
    "outputId": "af02e310-a86b-4aa9-bd6c-f31d065f4da0"
   },
   "outputs": [
    {
     "data": {
      "image/png": "[encoded data removed]",
      "text/plain": [
       "<Figure size 1000x500 with 1 Axes>"
      ]
     },
     "metadata": {},
     "output_type": "display_data"
    }
   ],
   "source": [
    "import matplotlib.pyplot as plt\n",
    "\n",
    "plt.figure(figsize = (10, 5))\n",
    "mediaIdadeCidade.plot(kind = \"bar\", x = \"Cidade\", y = \"Média de Idade\", legend = False, color = \"skyblue\")\n",
    "plt.ylabel(\"Média de Idade\")\n",
    "plt.title(\"Média de Idade por Cidade\")\n",
    "plt.xticks(rotation = 45)\n",
    "plt.show()"
   ]
  },
  {
   "cell_type": "markdown",
   "metadata": {
    "id": "HpkGMnNLQc_W"
   },
   "source": [
    "Qual meio de transporte é mais popular em cada cidade?"
   ]
  },
  {
   "cell_type": "code",
   "execution_count": 18,
   "metadata": {
    "colab": {
     "base_uri": "https://localhost:8080/",
     "height": 272
    },
    "executionInfo": {
     "elapsed": 14,
     "status": "ok",
     "timestamp": 1744670993621,
     "user": {
      "displayName": "Miguel Silva Souza",
      "userId": "07429946332743090203"
     },
     "user_tz": 180
    },
    "id": "DA_x6S6ZQe0W",
    "outputId": "cfa11edb-1574-4c05-d056-a04ffd7838d3"
   },
   "outputs": [
    {
     "data": {
      "text/plain": [
       "Cidade\n",
       "Rio Grande da Serra      Ônibus\n",
       "Santo André               Carro\n",
       "São Bernardo do Campo     Carro\n",
       "São Caetano do Sul        Carro\n",
       "São Paulo                Ônibus\n",
       "Name: Meio de Transporte, dtype: object"
      ]
     },
     "execution_count": 18,
     "metadata": {},
     "output_type": "execute_result"
    }
   ],
   "source": [
    "# Qual meio de transporte é mais popular em cada cidade?\n",
    "transporteMaisUtilizado = dados.groupby('Cidade')['Meio de Transporte'].agg(lambda x: x.value_counts().index[0])\n",
    "transporteMaisUtilizado\n"
   ]
  },
  {
   "cell_type": "markdown",
   "metadata": {
    "id": "kU6nF8vpQ523"
   },
   "source": [
    " Quantos meios de transporte diferentes são usados em cada cidade?\n"
   ]
  },
  {
   "cell_type": "code",
   "execution_count": 19,
   "metadata": {
    "colab": {
     "base_uri": "https://localhost:8080/",
     "height": 272
    },
    "executionInfo": {
     "elapsed": 45,
     "status": "ok",
     "timestamp": 1744671010885,
     "user": {
      "displayName": "Miguel Silva Souza",
      "userId": "07429946332743090203"
     },
     "user_tz": 180
    },
    "id": "uxXXpSJ6Q6Om",
    "outputId": "28c91420-e8ba-48ff-a331-bb1b24a291c8"
   },
   "outputs": [
    {
     "data": {
      "text/plain": [
       "Cidade\n",
       "Rio Grande da Serra      1\n",
       "Santo André              3\n",
       "São Bernardo do Campo    2\n",
       "São Caetano do Sul       3\n",
       "São Paulo                2\n",
       "Name: Meio de Transporte, dtype: int64"
      ]
     },
     "execution_count": 19,
     "metadata": {},
     "output_type": "execute_result"
    }
   ],
   "source": [
    "# Quantos meios de transporte diferentes são usados em cada cidade?\n",
    "meios_transporte_cidade = dados.groupby('Cidade')['Meio de Transporte'].nunique()\n",
    "meios_transporte_cidade\n"
   ]
  },
  {
   "cell_type": "markdown",
   "metadata": {
    "id": "IyneZ_PeQ6du"
   },
   "source": [
    "Existe variação significativa de idade entre os diferentes meios de transporte?"
   ]
  },
  {
   "cell_type": "code",
   "execution_count": 20,
   "metadata": {
    "colab": {
     "base_uri": "https://localhost:8080/",
     "height": 602
    },
    "executionInfo": {
     "elapsed": 336,
     "status": "ok",
     "timestamp": 1744671051298,
     "user": {
      "displayName": "Miguel Silva Souza",
      "userId": "07429946332743090203"
     },
     "user_tz": 180
    },
    "id": "gMWgA2udQ76u",
    "outputId": "c5ecf3d2-8a1b-4f4a-f61d-dcf033a38fc6"
   },
   "outputs": [
    {
     "data": {
      "image/png": "[encoded data removed]",
      "text/plain": [
       "<Figure size 1000x600 with 1 Axes>"
      ]
     },
     "metadata": {},
     "output_type": "display_data"
    }
   ],
   "source": [
    "# prompt: Existe variação significativa de idade entre os diferentes meios de transporte?\n",
    "\n",
    "import seaborn as sns\n",
    "\n",
    "plt.figure(figsize=(10, 6))\n",
    "sns.boxplot(x='Meio de Transporte', y='Idade', data=dados)\n",
    "plt.title('Variação de Idade por Meio de Transporte')\n",
    "plt.xlabel('Meio de Transporte')\n",
    "plt.ylabel('Idade')\n",
    "plt.xticks(rotation=45)\n",
    "plt.show()\n"
   ]
  }
 ],
 "metadata": {
  "colab": {
   "authorship_tag": "ABX9TyNyFJB2fLa/mFknY6ZcRAMw",
   "provenance": []
  },
  "kernelspec": {
   "display_name": "Python 3",
   "name": "python3"
  },
  "language_info": {
   "codemirror_mode": {
    "name": "ipython",
    "version": 3
   },
   "file_extension": ".py",
   "mimetype": "text/x-python",
   "name": "python",
   "nbconvert_exporter": "python",
   "pygments_lexer": "ipython3",
   "version": "3.13.3"
  }
 },
 "nbformat": 4,
 "nbformat_minor": 0
}
